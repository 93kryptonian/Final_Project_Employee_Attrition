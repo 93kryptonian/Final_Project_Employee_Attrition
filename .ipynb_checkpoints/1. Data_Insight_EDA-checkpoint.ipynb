{
 "cells": [
  {
   "cell_type": "markdown",
   "metadata": {},
   "source": [
    "\n",
    "\n",
    " \n",
    " <img src=http://thecontextofthings.com/wp-content/uploads/2017/01/employee-attrition.jpg width='50%'/>\n",
    " \n",
    "  \n",
    " `\" Managers tend to blame their turnover problems on everything under the sun, while ignoring the crux of the matter: people don't leave jobs; they leave managers.\"`\n",
    " \n",
    " `by Travis BradBerry`"
   ]
  },
  {
   "cell_type": "markdown",
   "metadata": {},
   "source": [
    "# Import Package"
   ]
  },
  {
   "cell_type": "code",
   "execution_count": 1,
   "metadata": {
    "ExecuteTime": {
     "end_time": "2020-03-02T06:33:53.119412Z",
     "start_time": "2020-03-02T06:33:50.628443Z"
    }
   },
   "outputs": [],
   "source": [
    "import numpy as np\n",
    "import pandas as pd\n",
    "import warnings\n",
    "warnings.filterwarnings('ignore')\n",
    "import matplotlib.pyplot as plt\n",
    "import seaborn as sns"
   ]
  },
  {
   "cell_type": "markdown",
   "metadata": {},
   "source": [
    "# Import Data"
   ]
  },
  {
   "cell_type": "code",
   "execution_count": 2,
   "metadata": {
    "ExecuteTime": {
     "end_time": "2020-03-02T06:33:53.128356Z",
     "start_time": "2020-03-02T06:33:53.122373Z"
    }
   },
   "outputs": [],
   "source": [
    "pd.options.display.max_columns=99"
   ]
  },
  {
   "cell_type": "code",
   "execution_count": 3,
   "metadata": {
    "ExecuteTime": {
     "end_time": "2020-03-02T06:34:21.552253Z",
     "start_time": "2020-03-02T06:33:53.132407Z"
    },
    "scrolled": true
   },
   "outputs": [
    {
     "data": {
      "text/html": [
       "<div>\n",
       "<style scoped>\n",
       "    .dataframe tbody tr th:only-of-type {\n",
       "        vertical-align: middle;\n",
       "    }\n",
       "\n",
       "    .dataframe tbody tr th {\n",
       "        vertical-align: top;\n",
       "    }\n",
       "\n",
       "    .dataframe thead th {\n",
       "        text-align: right;\n",
       "    }\n",
       "</style>\n",
       "<table border=\"1\" class=\"dataframe\">\n",
       "  <thead>\n",
       "    <tr style=\"text-align: right;\">\n",
       "      <th></th>\n",
       "      <th>EmployeeID</th>\n",
       "      <th>recorddate_key</th>\n",
       "      <th>birthdate_key</th>\n",
       "      <th>orighiredate_key</th>\n",
       "      <th>terminationdate_key</th>\n",
       "      <th>age</th>\n",
       "      <th>length_of_service</th>\n",
       "      <th>city_name</th>\n",
       "      <th>department_name</th>\n",
       "      <th>job_title</th>\n",
       "      <th>store_name</th>\n",
       "      <th>gender_short</th>\n",
       "      <th>gender_full</th>\n",
       "      <th>termreason_desc</th>\n",
       "      <th>termtype_desc</th>\n",
       "      <th>STATUS_YEAR</th>\n",
       "      <th>STATUS</th>\n",
       "      <th>BUSINESS_UNIT</th>\n",
       "    </tr>\n",
       "  </thead>\n",
       "  <tbody>\n",
       "    <tr>\n",
       "      <th>0</th>\n",
       "      <td>1318</td>\n",
       "      <td>2006-12-31</td>\n",
       "      <td>1954-01-03</td>\n",
       "      <td>1989-08-28</td>\n",
       "      <td>1900-01-01</td>\n",
       "      <td>52</td>\n",
       "      <td>17</td>\n",
       "      <td>Vancouver</td>\n",
       "      <td>Executive</td>\n",
       "      <td>CEO</td>\n",
       "      <td>35</td>\n",
       "      <td>M</td>\n",
       "      <td>Male</td>\n",
       "      <td>Not Applicable</td>\n",
       "      <td>Not Applicable</td>\n",
       "      <td>2006</td>\n",
       "      <td>ACTIVE</td>\n",
       "      <td>HEADOFFICE</td>\n",
       "    </tr>\n",
       "    <tr>\n",
       "      <th>1</th>\n",
       "      <td>1318</td>\n",
       "      <td>2007-12-31</td>\n",
       "      <td>1954-01-03</td>\n",
       "      <td>1989-08-28</td>\n",
       "      <td>1900-01-01</td>\n",
       "      <td>53</td>\n",
       "      <td>18</td>\n",
       "      <td>Vancouver</td>\n",
       "      <td>Executive</td>\n",
       "      <td>CEO</td>\n",
       "      <td>35</td>\n",
       "      <td>M</td>\n",
       "      <td>Male</td>\n",
       "      <td>Not Applicable</td>\n",
       "      <td>Not Applicable</td>\n",
       "      <td>2007</td>\n",
       "      <td>ACTIVE</td>\n",
       "      <td>HEADOFFICE</td>\n",
       "    </tr>\n",
       "    <tr>\n",
       "      <th>2</th>\n",
       "      <td>1318</td>\n",
       "      <td>2008-12-31</td>\n",
       "      <td>1954-01-03</td>\n",
       "      <td>1989-08-28</td>\n",
       "      <td>1900-01-01</td>\n",
       "      <td>54</td>\n",
       "      <td>19</td>\n",
       "      <td>Vancouver</td>\n",
       "      <td>Executive</td>\n",
       "      <td>CEO</td>\n",
       "      <td>35</td>\n",
       "      <td>M</td>\n",
       "      <td>Male</td>\n",
       "      <td>Not Applicable</td>\n",
       "      <td>Not Applicable</td>\n",
       "      <td>2008</td>\n",
       "      <td>ACTIVE</td>\n",
       "      <td>HEADOFFICE</td>\n",
       "    </tr>\n",
       "    <tr>\n",
       "      <th>3</th>\n",
       "      <td>1318</td>\n",
       "      <td>2009-12-31</td>\n",
       "      <td>1954-01-03</td>\n",
       "      <td>1989-08-28</td>\n",
       "      <td>1900-01-01</td>\n",
       "      <td>55</td>\n",
       "      <td>20</td>\n",
       "      <td>Vancouver</td>\n",
       "      <td>Executive</td>\n",
       "      <td>CEO</td>\n",
       "      <td>35</td>\n",
       "      <td>M</td>\n",
       "      <td>Male</td>\n",
       "      <td>Not Applicable</td>\n",
       "      <td>Not Applicable</td>\n",
       "      <td>2009</td>\n",
       "      <td>ACTIVE</td>\n",
       "      <td>HEADOFFICE</td>\n",
       "    </tr>\n",
       "    <tr>\n",
       "      <th>4</th>\n",
       "      <td>1318</td>\n",
       "      <td>2010-12-31</td>\n",
       "      <td>1954-01-03</td>\n",
       "      <td>1989-08-28</td>\n",
       "      <td>1900-01-01</td>\n",
       "      <td>56</td>\n",
       "      <td>21</td>\n",
       "      <td>Vancouver</td>\n",
       "      <td>Executive</td>\n",
       "      <td>CEO</td>\n",
       "      <td>35</td>\n",
       "      <td>M</td>\n",
       "      <td>Male</td>\n",
       "      <td>Not Applicable</td>\n",
       "      <td>Not Applicable</td>\n",
       "      <td>2010</td>\n",
       "      <td>ACTIVE</td>\n",
       "      <td>HEADOFFICE</td>\n",
       "    </tr>\n",
       "    <tr>\n",
       "      <th>5</th>\n",
       "      <td>1318</td>\n",
       "      <td>2011-12-31</td>\n",
       "      <td>1954-01-03</td>\n",
       "      <td>1989-08-28</td>\n",
       "      <td>1900-01-01</td>\n",
       "      <td>57</td>\n",
       "      <td>22</td>\n",
       "      <td>Vancouver</td>\n",
       "      <td>Executive</td>\n",
       "      <td>CEO</td>\n",
       "      <td>35</td>\n",
       "      <td>M</td>\n",
       "      <td>Male</td>\n",
       "      <td>Not Applicable</td>\n",
       "      <td>Not Applicable</td>\n",
       "      <td>2011</td>\n",
       "      <td>ACTIVE</td>\n",
       "      <td>HEADOFFICE</td>\n",
       "    </tr>\n",
       "    <tr>\n",
       "      <th>6</th>\n",
       "      <td>1318</td>\n",
       "      <td>2012-12-31</td>\n",
       "      <td>1954-01-03</td>\n",
       "      <td>1989-08-28</td>\n",
       "      <td>1900-01-01</td>\n",
       "      <td>58</td>\n",
       "      <td>23</td>\n",
       "      <td>Vancouver</td>\n",
       "      <td>Executive</td>\n",
       "      <td>CEO</td>\n",
       "      <td>35</td>\n",
       "      <td>M</td>\n",
       "      <td>Male</td>\n",
       "      <td>Not Applicable</td>\n",
       "      <td>Not Applicable</td>\n",
       "      <td>2012</td>\n",
       "      <td>ACTIVE</td>\n",
       "      <td>HEADOFFICE</td>\n",
       "    </tr>\n",
       "    <tr>\n",
       "      <th>7</th>\n",
       "      <td>1318</td>\n",
       "      <td>2013-12-31</td>\n",
       "      <td>1954-01-03</td>\n",
       "      <td>1989-08-28</td>\n",
       "      <td>1900-01-01</td>\n",
       "      <td>59</td>\n",
       "      <td>24</td>\n",
       "      <td>Vancouver</td>\n",
       "      <td>Executive</td>\n",
       "      <td>CEO</td>\n",
       "      <td>35</td>\n",
       "      <td>M</td>\n",
       "      <td>Male</td>\n",
       "      <td>Not Applicable</td>\n",
       "      <td>Not Applicable</td>\n",
       "      <td>2013</td>\n",
       "      <td>ACTIVE</td>\n",
       "      <td>HEADOFFICE</td>\n",
       "    </tr>\n",
       "    <tr>\n",
       "      <th>8</th>\n",
       "      <td>1318</td>\n",
       "      <td>2014-12-31</td>\n",
       "      <td>1954-01-03</td>\n",
       "      <td>1989-08-28</td>\n",
       "      <td>1900-01-01</td>\n",
       "      <td>60</td>\n",
       "      <td>25</td>\n",
       "      <td>Vancouver</td>\n",
       "      <td>Executive</td>\n",
       "      <td>CEO</td>\n",
       "      <td>35</td>\n",
       "      <td>M</td>\n",
       "      <td>Male</td>\n",
       "      <td>Not Applicable</td>\n",
       "      <td>Not Applicable</td>\n",
       "      <td>2014</td>\n",
       "      <td>ACTIVE</td>\n",
       "      <td>HEADOFFICE</td>\n",
       "    </tr>\n",
       "    <tr>\n",
       "      <th>9</th>\n",
       "      <td>1318</td>\n",
       "      <td>2015-12-31</td>\n",
       "      <td>1954-01-03</td>\n",
       "      <td>1989-08-28</td>\n",
       "      <td>1900-01-01</td>\n",
       "      <td>61</td>\n",
       "      <td>26</td>\n",
       "      <td>Vancouver</td>\n",
       "      <td>Executive</td>\n",
       "      <td>CEO</td>\n",
       "      <td>35</td>\n",
       "      <td>M</td>\n",
       "      <td>Male</td>\n",
       "      <td>Not Applicable</td>\n",
       "      <td>Not Applicable</td>\n",
       "      <td>2015</td>\n",
       "      <td>ACTIVE</td>\n",
       "      <td>HEADOFFICE</td>\n",
       "    </tr>\n",
       "  </tbody>\n",
       "</table>\n",
       "</div>"
      ],
      "text/plain": [
       "   EmployeeID recorddate_key birthdate_key orighiredate_key  \\\n",
       "0        1318     2006-12-31    1954-01-03       1989-08-28   \n",
       "1        1318     2007-12-31    1954-01-03       1989-08-28   \n",
       "2        1318     2008-12-31    1954-01-03       1989-08-28   \n",
       "3        1318     2009-12-31    1954-01-03       1989-08-28   \n",
       "4        1318     2010-12-31    1954-01-03       1989-08-28   \n",
       "5        1318     2011-12-31    1954-01-03       1989-08-28   \n",
       "6        1318     2012-12-31    1954-01-03       1989-08-28   \n",
       "7        1318     2013-12-31    1954-01-03       1989-08-28   \n",
       "8        1318     2014-12-31    1954-01-03       1989-08-28   \n",
       "9        1318     2015-12-31    1954-01-03       1989-08-28   \n",
       "\n",
       "  terminationdate_key  age  length_of_service  city_name department_name  \\\n",
       "0          1900-01-01   52                 17  Vancouver       Executive   \n",
       "1          1900-01-01   53                 18  Vancouver       Executive   \n",
       "2          1900-01-01   54                 19  Vancouver       Executive   \n",
       "3          1900-01-01   55                 20  Vancouver       Executive   \n",
       "4          1900-01-01   56                 21  Vancouver       Executive   \n",
       "5          1900-01-01   57                 22  Vancouver       Executive   \n",
       "6          1900-01-01   58                 23  Vancouver       Executive   \n",
       "7          1900-01-01   59                 24  Vancouver       Executive   \n",
       "8          1900-01-01   60                 25  Vancouver       Executive   \n",
       "9          1900-01-01   61                 26  Vancouver       Executive   \n",
       "\n",
       "  job_title  store_name gender_short gender_full termreason_desc  \\\n",
       "0       CEO          35            M        Male  Not Applicable   \n",
       "1       CEO          35            M        Male  Not Applicable   \n",
       "2       CEO          35            M        Male  Not Applicable   \n",
       "3       CEO          35            M        Male  Not Applicable   \n",
       "4       CEO          35            M        Male  Not Applicable   \n",
       "5       CEO          35            M        Male  Not Applicable   \n",
       "6       CEO          35            M        Male  Not Applicable   \n",
       "7       CEO          35            M        Male  Not Applicable   \n",
       "8       CEO          35            M        Male  Not Applicable   \n",
       "9       CEO          35            M        Male  Not Applicable   \n",
       "\n",
       "    termtype_desc  STATUS_YEAR  STATUS BUSINESS_UNIT  \n",
       "0  Not Applicable         2006  ACTIVE    HEADOFFICE  \n",
       "1  Not Applicable         2007  ACTIVE    HEADOFFICE  \n",
       "2  Not Applicable         2008  ACTIVE    HEADOFFICE  \n",
       "3  Not Applicable         2009  ACTIVE    HEADOFFICE  \n",
       "4  Not Applicable         2010  ACTIVE    HEADOFFICE  \n",
       "5  Not Applicable         2011  ACTIVE    HEADOFFICE  \n",
       "6  Not Applicable         2012  ACTIVE    HEADOFFICE  \n",
       "7  Not Applicable         2013  ACTIVE    HEADOFFICE  \n",
       "8  Not Applicable         2014  ACTIVE    HEADOFFICE  \n",
       "9  Not Applicable         2015  ACTIVE    HEADOFFICE  "
      ]
     },
     "execution_count": 3,
     "metadata": {},
     "output_type": "execute_result"
    }
   ],
   "source": [
    "df = pd.read_csv(\"TerminationData.csv\", parse_dates=['recorddate_key', 'birthdate_key',\n",
    "                                                     'orighiredate_key', 'terminationdate_key'])\n",
    "df.head(10)"
   ]
  },
  {
   "cell_type": "code",
   "execution_count": 5,
   "metadata": {
    "ExecuteTime": {
     "end_time": "2020-03-02T06:35:29.051781Z",
     "start_time": "2020-03-02T06:35:29.041550Z"
    }
   },
   "outputs": [
    {
     "data": {
      "text/plain": [
       "array(['CEO', 'VP Stores', 'Legal Counsel', 'VP Human Resources',\n",
       "       'VP Finance', 'Exec Assistant, VP Stores',\n",
       "       'Exec Assistant, Legal Counsel', 'CHief Information Officer',\n",
       "       'Store Manager', 'Meats Manager',\n",
       "       'Exec Assistant, Human Resources', 'Exec Assistant, Finance',\n",
       "       'Director, Recruitment', 'Director, Training',\n",
       "       'Director, Labor Relations', 'Director, HR Technology',\n",
       "       'Director, Employee Records', 'Director, Compensation',\n",
       "       'Corporate Lawyer', 'Produce Manager',\n",
       "       'Director, Accounts Receivable', 'Bakery Manager',\n",
       "       'Systems Analyst', 'Director, Accounts Payable', 'Director, Audit',\n",
       "       'Director, Accounting', 'Director, Investments', 'Dairy Person',\n",
       "       'Recruiter', 'Processed Foods Manager', 'Customer Service Manager',\n",
       "       'Trainer', 'Meat Cutter', 'Labor Relations Analyst',\n",
       "       'Dairy Manager', 'HRIS Analyst', 'Benefits Admin',\n",
       "       'Compensation Analyst', 'Accounts Receiveable Clerk',\n",
       "       'Accounts Payable Clerk', 'Baker', 'Auditor', 'Accounting Clerk',\n",
       "       'Investment Analyst', 'Produce Clerk', 'Shelf Stocker', 'Cashier'],\n",
       "      dtype=object)"
      ]
     },
     "execution_count": 5,
     "metadata": {},
     "output_type": "execute_result"
    }
   ],
   "source": [
    "df.job_title.unique()"
   ]
  },
  {
   "cell_type": "code",
   "execution_count": 6,
   "metadata": {
    "ExecuteTime": {
     "end_time": "2020-03-02T06:35:29.063260Z",
     "start_time": "2020-03-02T06:35:29.054289Z"
    }
   },
   "outputs": [
    {
     "data": {
      "text/plain": [
       "Index(['EmployeeID', 'recorddate_key', 'birthdate_key', 'orighiredate_key',\n",
       "       'terminationdate_key', 'age', 'length_of_service', 'city_name',\n",
       "       'department_name', 'job_title', 'store_name', 'gender_short',\n",
       "       'gender_full', 'termreason_desc', 'termtype_desc', 'STATUS_YEAR',\n",
       "       'STATUS', 'BUSINESS_UNIT'],\n",
       "      dtype='object')"
      ]
     },
     "execution_count": 6,
     "metadata": {},
     "output_type": "execute_result"
    }
   ],
   "source": [
    "df.columns"
   ]
  },
  {
   "cell_type": "markdown",
   "metadata": {},
   "source": [
    "## Data Description"
   ]
  },
  {
   "cell_type": "markdown",
   "metadata": {},
   "source": [
    "- EmployeeID : ID Karyawan (Tetapi Tidak Unique)\n",
    "- recorddate_key : Tanggal Data direcord\n",
    "- birthdate_key : Tanggal lahir karyawan\n",
    "- orighiredate_key : Tanggal Masuk Karyawan\n",
    "- terminationdate_key : Tanggal terminate\n",
    "- age : Usia\n",
    "- length_of_service : Masa Kerja\n",
    "- city_name : Nama Kota\n",
    "- department_name : Nama Departemen\n",
    "- Job_Title : Jabatan Karyawan\n",
    "- store_name : Nama Toko\n",
    "- gender_short : Jenis Kelamin\n",
    "- gender_full : Jenis Kelamin\n",
    "- termreason_desc : Alasan berhenti\n",
    "- termtype_desc : Jenis termination\n",
    "- STATUS_YEAR : Tahun record data\n",
    "- STATUS : Status karyawan\n",
    "- Business Unit : BU karyawan"
   ]
  },
  {
   "cell_type": "markdown",
   "metadata": {},
   "source": [
    "# Data Exploration"
   ]
  },
  {
   "cell_type": "markdown",
   "metadata": {},
   "source": [
    "## Data Information"
   ]
  },
  {
   "cell_type": "code",
   "execution_count": 7,
   "metadata": {
    "ExecuteTime": {
     "end_time": "2020-03-02T06:35:29.332629Z",
     "start_time": "2020-03-02T06:35:29.247276Z"
    }
   },
   "outputs": [
    {
     "name": "stdout",
     "output_type": "stream",
     "text": [
      "<class 'pandas.core.frame.DataFrame'>\n",
      "RangeIndex: 49653 entries, 0 to 49652\n",
      "Data columns (total 18 columns):\n",
      "EmployeeID             49653 non-null int64\n",
      "recorddate_key         49653 non-null datetime64[ns]\n",
      "birthdate_key          49653 non-null datetime64[ns]\n",
      "orighiredate_key       49653 non-null datetime64[ns]\n",
      "terminationdate_key    49653 non-null datetime64[ns]\n",
      "age                    49653 non-null int64\n",
      "length_of_service      49653 non-null int64\n",
      "city_name              49653 non-null object\n",
      "department_name        49653 non-null object\n",
      "job_title              49653 non-null object\n",
      "store_name             49653 non-null int64\n",
      "gender_short           49653 non-null object\n",
      "gender_full            49653 non-null object\n",
      "termreason_desc        49653 non-null object\n",
      "termtype_desc          49653 non-null object\n",
      "STATUS_YEAR            49653 non-null int64\n",
      "STATUS                 49653 non-null object\n",
      "BUSINESS_UNIT          49653 non-null object\n",
      "dtypes: datetime64[ns](4), int64(5), object(9)\n",
      "memory usage: 6.8+ MB\n"
     ]
    }
   ],
   "source": [
    "df.info()"
   ]
  },
  {
   "cell_type": "markdown",
   "metadata": {},
   "source": [
    "## Data Exploration for Numerical Data"
   ]
  },
  {
   "cell_type": "code",
   "execution_count": 8,
   "metadata": {
    "ExecuteTime": {
     "end_time": "2020-03-02T06:35:29.430998Z",
     "start_time": "2020-03-02T06:35:29.334623Z"
    }
   },
   "outputs": [
    {
     "data": {
      "text/html": [
       "<div>\n",
       "<style scoped>\n",
       "    .dataframe tbody tr th:only-of-type {\n",
       "        vertical-align: middle;\n",
       "    }\n",
       "\n",
       "    .dataframe tbody tr th {\n",
       "        vertical-align: top;\n",
       "    }\n",
       "\n",
       "    .dataframe thead th {\n",
       "        text-align: right;\n",
       "    }\n",
       "</style>\n",
       "<table border=\"1\" class=\"dataframe\">\n",
       "  <thead>\n",
       "    <tr style=\"text-align: right;\">\n",
       "      <th></th>\n",
       "      <th>count</th>\n",
       "      <th>mean</th>\n",
       "      <th>std</th>\n",
       "      <th>min</th>\n",
       "      <th>25%</th>\n",
       "      <th>50%</th>\n",
       "      <th>75%</th>\n",
       "      <th>max</th>\n",
       "    </tr>\n",
       "  </thead>\n",
       "  <tbody>\n",
       "    <tr>\n",
       "      <th>EmployeeID</th>\n",
       "      <td>49653.0</td>\n",
       "      <td>4859.495740</td>\n",
       "      <td>1826.571142</td>\n",
       "      <td>1318.0</td>\n",
       "      <td>3360.0</td>\n",
       "      <td>5031.0</td>\n",
       "      <td>6335.0</td>\n",
       "      <td>8336.0</td>\n",
       "    </tr>\n",
       "    <tr>\n",
       "      <th>age</th>\n",
       "      <td>49653.0</td>\n",
       "      <td>42.077035</td>\n",
       "      <td>12.427257</td>\n",
       "      <td>19.0</td>\n",
       "      <td>31.0</td>\n",
       "      <td>42.0</td>\n",
       "      <td>53.0</td>\n",
       "      <td>65.0</td>\n",
       "    </tr>\n",
       "    <tr>\n",
       "      <th>length_of_service</th>\n",
       "      <td>49653.0</td>\n",
       "      <td>10.434596</td>\n",
       "      <td>6.325286</td>\n",
       "      <td>0.0</td>\n",
       "      <td>5.0</td>\n",
       "      <td>10.0</td>\n",
       "      <td>15.0</td>\n",
       "      <td>26.0</td>\n",
       "    </tr>\n",
       "    <tr>\n",
       "      <th>store_name</th>\n",
       "      <td>49653.0</td>\n",
       "      <td>27.297605</td>\n",
       "      <td>13.514134</td>\n",
       "      <td>1.0</td>\n",
       "      <td>16.0</td>\n",
       "      <td>28.0</td>\n",
       "      <td>42.0</td>\n",
       "      <td>46.0</td>\n",
       "    </tr>\n",
       "    <tr>\n",
       "      <th>STATUS_YEAR</th>\n",
       "      <td>49653.0</td>\n",
       "      <td>2010.612612</td>\n",
       "      <td>2.845577</td>\n",
       "      <td>2006.0</td>\n",
       "      <td>2008.0</td>\n",
       "      <td>2011.0</td>\n",
       "      <td>2013.0</td>\n",
       "      <td>2015.0</td>\n",
       "    </tr>\n",
       "  </tbody>\n",
       "</table>\n",
       "</div>"
      ],
      "text/plain": [
       "                     count         mean          std     min     25%     50%  \\\n",
       "EmployeeID         49653.0  4859.495740  1826.571142  1318.0  3360.0  5031.0   \n",
       "age                49653.0    42.077035    12.427257    19.0    31.0    42.0   \n",
       "length_of_service  49653.0    10.434596     6.325286     0.0     5.0    10.0   \n",
       "store_name         49653.0    27.297605    13.514134     1.0    16.0    28.0   \n",
       "STATUS_YEAR        49653.0  2010.612612     2.845577  2006.0  2008.0  2011.0   \n",
       "\n",
       "                      75%     max  \n",
       "EmployeeID         6335.0  8336.0  \n",
       "age                  53.0    65.0  \n",
       "length_of_service    15.0    26.0  \n",
       "store_name           42.0    46.0  \n",
       "STATUS_YEAR        2013.0  2015.0  "
      ]
     },
     "execution_count": 8,
     "metadata": {},
     "output_type": "execute_result"
    }
   ],
   "source": [
    "df.describe().T"
   ]
  },
  {
   "cell_type": "markdown",
   "metadata": {},
   "source": [
    "## Data Exploration for Categorical Data"
   ]
  },
  {
   "cell_type": "code",
   "execution_count": 9,
   "metadata": {
    "ExecuteTime": {
     "end_time": "2020-03-02T06:35:29.702400Z",
     "start_time": "2020-03-02T06:35:29.433989Z"
    }
   },
   "outputs": [
    {
     "data": {
      "text/html": [
       "<div>\n",
       "<style scoped>\n",
       "    .dataframe tbody tr th:only-of-type {\n",
       "        vertical-align: middle;\n",
       "    }\n",
       "\n",
       "    .dataframe tbody tr th {\n",
       "        vertical-align: top;\n",
       "    }\n",
       "\n",
       "    .dataframe thead th {\n",
       "        text-align: right;\n",
       "    }\n",
       "</style>\n",
       "<table border=\"1\" class=\"dataframe\">\n",
       "  <thead>\n",
       "    <tr style=\"text-align: right;\">\n",
       "      <th></th>\n",
       "      <th>city_name</th>\n",
       "      <th>department_name</th>\n",
       "      <th>job_title</th>\n",
       "      <th>gender_short</th>\n",
       "      <th>gender_full</th>\n",
       "      <th>termreason_desc</th>\n",
       "      <th>termtype_desc</th>\n",
       "      <th>STATUS</th>\n",
       "      <th>BUSINESS_UNIT</th>\n",
       "    </tr>\n",
       "  </thead>\n",
       "  <tbody>\n",
       "    <tr>\n",
       "      <th>count</th>\n",
       "      <td>49653</td>\n",
       "      <td>49653</td>\n",
       "      <td>49653</td>\n",
       "      <td>49653</td>\n",
       "      <td>49653</td>\n",
       "      <td>49653</td>\n",
       "      <td>49653</td>\n",
       "      <td>49653</td>\n",
       "      <td>49653</td>\n",
       "    </tr>\n",
       "    <tr>\n",
       "      <th>unique</th>\n",
       "      <td>40</td>\n",
       "      <td>21</td>\n",
       "      <td>47</td>\n",
       "      <td>2</td>\n",
       "      <td>2</td>\n",
       "      <td>4</td>\n",
       "      <td>3</td>\n",
       "      <td>2</td>\n",
       "      <td>2</td>\n",
       "    </tr>\n",
       "    <tr>\n",
       "      <th>top</th>\n",
       "      <td>Vancouver</td>\n",
       "      <td>Meats</td>\n",
       "      <td>Meat Cutter</td>\n",
       "      <td>F</td>\n",
       "      <td>Female</td>\n",
       "      <td>Not Applicable</td>\n",
       "      <td>Not Applicable</td>\n",
       "      <td>ACTIVE</td>\n",
       "      <td>STORES</td>\n",
       "    </tr>\n",
       "    <tr>\n",
       "      <th>freq</th>\n",
       "      <td>11211</td>\n",
       "      <td>10269</td>\n",
       "      <td>9984</td>\n",
       "      <td>25898</td>\n",
       "      <td>25898</td>\n",
       "      <td>48168</td>\n",
       "      <td>48168</td>\n",
       "      <td>48168</td>\n",
       "      <td>49068</td>\n",
       "    </tr>\n",
       "  </tbody>\n",
       "</table>\n",
       "</div>"
      ],
      "text/plain": [
       "        city_name department_name    job_title gender_short gender_full  \\\n",
       "count       49653           49653        49653        49653       49653   \n",
       "unique         40              21           47            2           2   \n",
       "top     Vancouver           Meats  Meat Cutter            F      Female   \n",
       "freq        11211           10269         9984        25898       25898   \n",
       "\n",
       "       termreason_desc   termtype_desc  STATUS BUSINESS_UNIT  \n",
       "count            49653           49653   49653         49653  \n",
       "unique               4               3       2             2  \n",
       "top     Not Applicable  Not Applicable  ACTIVE        STORES  \n",
       "freq             48168           48168   48168         49068  "
      ]
     },
     "execution_count": 9,
     "metadata": {},
     "output_type": "execute_result"
    }
   ],
   "source": [
    "df.describe(include=['O'])"
   ]
  },
  {
   "cell_type": "markdown",
   "metadata": {},
   "source": [
    "## Check Missing Value"
   ]
  },
  {
   "cell_type": "code",
   "execution_count": 10,
   "metadata": {
    "ExecuteTime": {
     "end_time": "2020-03-02T06:35:29.808811Z",
     "start_time": "2020-03-02T06:35:29.705392Z"
    }
   },
   "outputs": [
    {
     "data": {
      "text/plain": [
       "EmployeeID             0\n",
       "recorddate_key         0\n",
       "birthdate_key          0\n",
       "orighiredate_key       0\n",
       "terminationdate_key    0\n",
       "age                    0\n",
       "length_of_service      0\n",
       "city_name              0\n",
       "department_name        0\n",
       "job_title              0\n",
       "store_name             0\n",
       "gender_short           0\n",
       "gender_full            0\n",
       "termreason_desc        0\n",
       "termtype_desc          0\n",
       "STATUS_YEAR            0\n",
       "STATUS                 0\n",
       "BUSINESS_UNIT          0\n",
       "dtype: int64"
      ]
     },
     "execution_count": 10,
     "metadata": {},
     "output_type": "execute_result"
    }
   ],
   "source": [
    "df.isnull().sum()"
   ]
  },
  {
   "cell_type": "markdown",
   "metadata": {},
   "source": [
    "There isnt any Missing value in the Dataset"
   ]
  },
  {
   "cell_type": "markdown",
   "metadata": {},
   "source": [
    "## Check Imbalance Data"
   ]
  },
  {
   "cell_type": "code",
   "execution_count": 11,
   "metadata": {
    "ExecuteTime": {
     "end_time": "2020-03-02T06:35:29.841846Z",
     "start_time": "2020-03-02T06:35:29.812801Z"
    }
   },
   "outputs": [
    {
     "data": {
      "text/plain": [
       "ACTIVE        48168\n",
       "TERMINATED     1485\n",
       "Name: STATUS, dtype: int64"
      ]
     },
     "execution_count": 11,
     "metadata": {},
     "output_type": "execute_result"
    }
   ],
   "source": [
    "df.STATUS.value_counts()"
   ]
  },
  {
   "cell_type": "markdown",
   "metadata": {},
   "source": [
    "the Dataset is Imbalance, its normal because this dataset is used as Detection Tools"
   ]
  },
  {
   "cell_type": "markdown",
   "metadata": {},
   "source": [
    "## Check Outlier for Numerical Data"
   ]
  },
  {
   "cell_type": "code",
   "execution_count": 12,
   "metadata": {
    "ExecuteTime": {
     "end_time": "2020-03-02T06:35:30.146925Z",
     "start_time": "2020-03-02T06:35:29.844857Z"
    }
   },
   "outputs": [
    {
     "data": {
      "text/plain": [
       "<matplotlib.axes._subplots.AxesSubplot at 0x1f67e135780>"
      ]
     },
     "execution_count": 12,
     "metadata": {},
     "output_type": "execute_result"
    },
    {
     "data": {
      "image/png": "[encoded data removed]",
      "text/plain": [
       "<Figure size 432x288 with 1 Axes>"
      ]
     },
     "metadata": {
      "needs_background": "light"
     },
     "output_type": "display_data"
    }
   ],
   "source": [
    "sns.boxplot(df.length_of_service, orient='v', color='r')"
   ]
  },
  {
   "cell_type": "code",
   "execution_count": 13,
   "metadata": {
    "ExecuteTime": {
     "end_time": "2020-03-02T06:35:30.376609Z",
     "start_time": "2020-03-02T06:35:30.149989Z"
    },
    "scrolled": false
   },
   "outputs": [
    {
     "data": {
      "text/plain": [
       "<matplotlib.axes._subplots.AxesSubplot at 0x1f677845400>"
      ]
     },
     "execution_count": 13,
     "metadata": {},
     "output_type": "execute_result"
    },
    {
     "data": {
      "image/png": "[encoded data removed]",
      "text/plain": [
       "<Figure size 432x288 with 1 Axes>"
      ]
     },
     "metadata": {
      "needs_background": "light"
     },
     "output_type": "display_data"
    }
   ],
   "source": [
    "sns.boxplot(df.age, orient='v', color='r')"
   ]
  },
  {
   "cell_type": "markdown",
   "metadata": {},
   "source": [
    "There isnt any Outlier data in numerical data"
   ]
  },
  {
   "cell_type": "markdown",
   "metadata": {},
   "source": [
    "# Pre-Eliminary Observation"
   ]
  },
  {
   "cell_type": "markdown",
   "metadata": {},
   "source": [
    "Observasi Awal :\n",
    "1. Dataset Imbalance, karena dataset memang digunakan untuk Detection (Akan dihandle di bagian Modelling)\n",
    "2. Dataset terdiri dari Data Numerik dan Kategorik\n",
    "3. Ada fitur gender yg redundant yaitu Gender_sort dan Gender_full, salah satu akan di drop karena memiliki fungsi yg sama.\n",
    "4. Tanggal lahir dan Usia memiliki kesamaan fungsi, sehingga salah satu akan di drop\n",
    "5. Jika karyawan aktif, termination date nya 1/1/1900\n",
    "6. Karyawan yg sudah diterminate memiliki data valid untuk termination date, termination reason dan termination type. sehingga 3 fitur ini tidak dapat digunakan ketika training model karena tidak termasuk predictor\n",
    "7. fitur status_year dan record_date memiliki informasi yg sama.\n",
    "8. kolom STATUS merupakan target prediksi, sehingga value nya harus dikonversi menjadi Numerik \n",
    "\n",
    "Beberapa perubahan terkait feature untuk kebutuhan pe-model-an akan dilakukan di bagian Feature Engineering"
   ]
  },
  {
   "cell_type": "markdown",
   "metadata": {},
   "source": [
    "## Analyze Dataset by Visualizing"
   ]
  },
  {
   "cell_type": "code",
   "execution_count": 14,
   "metadata": {
    "ExecuteTime": {
     "end_time": "2020-03-02T06:35:30.711505Z",
     "start_time": "2020-03-02T06:35:30.380598Z"
    }
   },
   "outputs": [
    {
     "data": {
      "text/plain": [
       "<matplotlib.axes._subplots.AxesSubplot at 0x1f67e10dfd0>"
      ]
     },
     "execution_count": 14,
     "metadata": {},
     "output_type": "execute_result"
    },
    {
     "data": {
      "image/png": "[encoded data removed]",
      "text/plain": [
       "<Figure size 720x432 with 1 Axes>"
      ]
     },
     "metadata": {
      "needs_background": "light"
     },
     "output_type": "display_data"
    }
   ],
   "source": [
    "plt.figure(figsize=(10,6))\n",
    "sns.countplot(df.STATUS)"
   ]
  },
  {
   "cell_type": "markdown",
   "metadata": {},
   "source": [
    "### Split dataset to be 2 new dataset based on Employment Status"
   ]
  },
  {
   "cell_type": "code",
   "execution_count": 15,
   "metadata": {
    "ExecuteTime": {
     "end_time": "2020-03-02T06:35:30.766494Z",
     "start_time": "2020-03-02T06:35:30.714484Z"
    }
   },
   "outputs": [],
   "source": [
    "df_active = df[df['STATUS'] == 'ACTIVE'].copy()\n",
    "df_terminated = df[df['STATUS'] == 'TERMINATED'].copy()"
   ]
  },
  {
   "cell_type": "markdown",
   "metadata": {},
   "source": [
    "df_active : Dataset untuk karyawan aktif\n",
    "df_terminated : Dataset karyawan yg sudah diterminate"
   ]
  },
  {
   "cell_type": "markdown",
   "metadata": {},
   "source": [
    "#### Plot Function"
   ]
  },
  {
   "cell_type": "code",
   "execution_count": 16,
   "metadata": {
    "ExecuteTime": {
     "end_time": "2020-03-02T06:35:30.776468Z",
     "start_time": "2020-03-02T06:35:30.768489Z"
    }
   },
   "outputs": [],
   "source": [
    "\n",
    "def plot_cat(col):\n",
    "    plt.figure(figsize=(10,6))\n",
    "    plt.subplot(121)\n",
    "    sns.countplot(data=df_active, x = col)\n",
    "    plt.xticks(rotation=60)\n",
    "    plt.xlabel('Active Employee')\n",
    "    \n",
    "    plt.subplot(122)\n",
    "    sns.countplot(data=df_terminated, x = col)\n",
    "    plt.xticks(rotation=60)\n",
    "    plt.xlabel('Terminated Employee')"
   ]
  },
  {
   "cell_type": "markdown",
   "metadata": {},
   "source": [
    "### Comparing the Dataset by Demographical"
   ]
  },
  {
   "cell_type": "markdown",
   "metadata": {},
   "source": [
    "#### Compare the Gender"
   ]
  },
  {
   "cell_type": "code",
   "execution_count": 17,
   "metadata": {
    "ExecuteTime": {
     "end_time": "2020-03-02T06:35:31.393700Z",
     "start_time": "2020-03-02T06:35:30.779460Z"
    }
   },
   "outputs": [
    {
     "data": {
      "image/png": "[encoded data removed]",
      "text/plain": [
       "<Figure size 720x432 with 2 Axes>"
      ]
     },
     "metadata": {
      "needs_background": "light"
     },
     "output_type": "display_data"
    }
   ],
   "source": [
    "plot_cat('gender_full')"
   ]
  },
  {
   "cell_type": "markdown",
   "metadata": {},
   "source": [
    "**insight** Meskipun secara jumlah karyawan aktif, ada perbedaan signifikan antara Laki-laki dan perempuan, tetapi untuk karyawan berstatus terminate, perbedaannya tidak signifikan. "
   ]
  },
  {
   "cell_type": "markdown",
   "metadata": {},
   "source": [
    "#### Comparing the Age & Length of Service"
   ]
  },
  {
   "cell_type": "code",
   "execution_count": 18,
   "metadata": {
    "ExecuteTime": {
     "end_time": "2020-03-02T06:35:33.244908Z",
     "start_time": "2020-03-02T06:35:31.396693Z"
    }
   },
   "outputs": [
    {
     "data": {
      "image/png": "[encoded data removed]",
      "text/plain": [
       "<Figure size 1440x720 with 2 Axes>"
      ]
     },
     "metadata": {
      "needs_background": "light"
     },
     "output_type": "display_data"
    }
   ],
   "source": [
    "plt.figure(figsize=(20,10))\n",
    "\n",
    "plt.subplot(121)\n",
    "plt.scatter(df_terminated.age, df_terminated.length_of_service, color='r')\n",
    "plt.xlabel('Age')\n",
    "plt.ylabel('Length of service')\n",
    "plt.title('Terminated Employee')\n",
    "plt.grid(True)\n",
    "\n",
    "plt.subplot(122)\n",
    "plt.scatter(df_active.age, df_active.length_of_service, color='b')\n",
    "plt.xlabel('Age')\n",
    "plt.title('Active Employee')\n",
    "plt.grid(True);"
   ]
  },
  {
   "cell_type": "markdown",
   "metadata": {},
   "source": [
    "**insight** Jika dilihat dari masa kerja dan usia, jumlah karyawan yg terminate di rentang usia 20-30 dan masa kerja 0-5 tahun mendominasi dibanding yg lain."
   ]
  },
  {
   "cell_type": "markdown",
   "metadata": {},
   "source": [
    "### Grouping the Age by Generation"
   ]
  },
  {
   "cell_type": "code",
   "execution_count": 19,
   "metadata": {
    "ExecuteTime": {
     "end_time": "2020-03-02T06:35:33.313610Z",
     "start_time": "2020-03-02T06:35:33.248898Z"
    }
   },
   "outputs": [
    {
     "data": {
      "text/plain": [
       "count    48168.000000\n",
       "mean        41.787805\n",
       "std         12.165319\n",
       "min         19.000000\n",
       "25%         31.000000\n",
       "50%         42.000000\n",
       "75%         52.000000\n",
       "max         65.000000\n",
       "Name: age, dtype: float64"
      ]
     },
     "execution_count": 19,
     "metadata": {},
     "output_type": "execute_result"
    }
   ],
   "source": [
    "df_active.age.describe()"
   ]
  },
  {
   "cell_type": "code",
   "execution_count": 20,
   "metadata": {
    "ExecuteTime": {
     "end_time": "2020-03-02T06:35:33.372484Z",
     "start_time": "2020-03-02T06:35:33.316602Z"
    }
   },
   "outputs": [
    {
     "data": {
      "text/html": [
       "<div>\n",
       "<style scoped>\n",
       "    .dataframe tbody tr th:only-of-type {\n",
       "        vertical-align: middle;\n",
       "    }\n",
       "\n",
       "    .dataframe tbody tr th {\n",
       "        vertical-align: top;\n",
       "    }\n",
       "\n",
       "    .dataframe thead th {\n",
       "        text-align: right;\n",
       "    }\n",
       "</style>\n",
       "<table border=\"1\" class=\"dataframe\">\n",
       "  <thead>\n",
       "    <tr style=\"text-align: right;\">\n",
       "      <th></th>\n",
       "      <th>EmployeeID</th>\n",
       "      <th>recorddate_key</th>\n",
       "      <th>birthdate_key</th>\n",
       "      <th>orighiredate_key</th>\n",
       "      <th>terminationdate_key</th>\n",
       "      <th>age</th>\n",
       "      <th>length_of_service</th>\n",
       "      <th>city_name</th>\n",
       "      <th>department_name</th>\n",
       "      <th>job_title</th>\n",
       "      <th>store_name</th>\n",
       "      <th>gender_short</th>\n",
       "      <th>gender_full</th>\n",
       "      <th>termreason_desc</th>\n",
       "      <th>termtype_desc</th>\n",
       "      <th>STATUS_YEAR</th>\n",
       "      <th>STATUS</th>\n",
       "      <th>BUSINESS_UNIT</th>\n",
       "      <th>gen</th>\n",
       "    </tr>\n",
       "  </thead>\n",
       "  <tbody>\n",
       "    <tr>\n",
       "      <th>48168</th>\n",
       "      <td>1338</td>\n",
       "      <td>2009-02-01</td>\n",
       "      <td>1949-02-16</td>\n",
       "      <td>1989-09-20</td>\n",
       "      <td>2009-02-16</td>\n",
       "      <td>60</td>\n",
       "      <td>19</td>\n",
       "      <td>Vancouver</td>\n",
       "      <td>Training</td>\n",
       "      <td>Director, Training</td>\n",
       "      <td>35</td>\n",
       "      <td>M</td>\n",
       "      <td>Male</td>\n",
       "      <td>Retirement</td>\n",
       "      <td>Voluntary</td>\n",
       "      <td>2009</td>\n",
       "      <td>TERMINATED</td>\n",
       "      <td>HEADOFFICE</td>\n",
       "      <td>4</td>\n",
       "    </tr>\n",
       "    <tr>\n",
       "      <th>48169</th>\n",
       "      <td>1339</td>\n",
       "      <td>2014-02-01</td>\n",
       "      <td>1949-02-19</td>\n",
       "      <td>1989-09-22</td>\n",
       "      <td>2014-02-19</td>\n",
       "      <td>65</td>\n",
       "      <td>24</td>\n",
       "      <td>Nelson</td>\n",
       "      <td>Store Management</td>\n",
       "      <td>Store Manager</td>\n",
       "      <td>19</td>\n",
       "      <td>F</td>\n",
       "      <td>Female</td>\n",
       "      <td>Retirement</td>\n",
       "      <td>Voluntary</td>\n",
       "      <td>2014</td>\n",
       "      <td>TERMINATED</td>\n",
       "      <td>STORES</td>\n",
       "      <td>4</td>\n",
       "    </tr>\n",
       "    <tr>\n",
       "      <th>48170</th>\n",
       "      <td>1340</td>\n",
       "      <td>2009-02-01</td>\n",
       "      <td>1949-02-19</td>\n",
       "      <td>1989-09-22</td>\n",
       "      <td>2009-02-19</td>\n",
       "      <td>60</td>\n",
       "      <td>19</td>\n",
       "      <td>Kelowna</td>\n",
       "      <td>Store Management</td>\n",
       "      <td>Store Manager</td>\n",
       "      <td>16</td>\n",
       "      <td>M</td>\n",
       "      <td>Male</td>\n",
       "      <td>Retirement</td>\n",
       "      <td>Voluntary</td>\n",
       "      <td>2009</td>\n",
       "      <td>TERMINATED</td>\n",
       "      <td>STORES</td>\n",
       "      <td>4</td>\n",
       "    </tr>\n",
       "    <tr>\n",
       "      <th>48171</th>\n",
       "      <td>1341</td>\n",
       "      <td>2009-02-01</td>\n",
       "      <td>1949-02-21</td>\n",
       "      <td>1989-09-23</td>\n",
       "      <td>2009-02-21</td>\n",
       "      <td>60</td>\n",
       "      <td>19</td>\n",
       "      <td>Vancouver</td>\n",
       "      <td>Labor Relations</td>\n",
       "      <td>Director, Labor Relations</td>\n",
       "      <td>35</td>\n",
       "      <td>M</td>\n",
       "      <td>Male</td>\n",
       "      <td>Retirement</td>\n",
       "      <td>Voluntary</td>\n",
       "      <td>2009</td>\n",
       "      <td>TERMINATED</td>\n",
       "      <td>HEADOFFICE</td>\n",
       "      <td>4</td>\n",
       "    </tr>\n",
       "    <tr>\n",
       "      <th>48172</th>\n",
       "      <td>1343</td>\n",
       "      <td>2014-02-01</td>\n",
       "      <td>1949-02-24</td>\n",
       "      <td>1989-09-25</td>\n",
       "      <td>2014-02-24</td>\n",
       "      <td>65</td>\n",
       "      <td>24</td>\n",
       "      <td>Victoria</td>\n",
       "      <td>Store Management</td>\n",
       "      <td>Store Manager</td>\n",
       "      <td>37</td>\n",
       "      <td>F</td>\n",
       "      <td>Female</td>\n",
       "      <td>Retirement</td>\n",
       "      <td>Voluntary</td>\n",
       "      <td>2014</td>\n",
       "      <td>TERMINATED</td>\n",
       "      <td>STORES</td>\n",
       "      <td>4</td>\n",
       "    </tr>\n",
       "  </tbody>\n",
       "</table>\n",
       "</div>"
      ],
      "text/plain": [
       "       EmployeeID recorddate_key birthdate_key orighiredate_key  \\\n",
       "48168        1338     2009-02-01    1949-02-16       1989-09-20   \n",
       "48169        1339     2014-02-01    1949-02-19       1989-09-22   \n",
       "48170        1340     2009-02-01    1949-02-19       1989-09-22   \n",
       "48171        1341     2009-02-01    1949-02-21       1989-09-23   \n",
       "48172        1343     2014-02-01    1949-02-24       1989-09-25   \n",
       "\n",
       "      terminationdate_key  age  length_of_service  city_name  \\\n",
       "48168          2009-02-16   60                 19  Vancouver   \n",
       "48169          2014-02-19   65                 24     Nelson   \n",
       "48170          2009-02-19   60                 19    Kelowna   \n",
       "48171          2009-02-21   60                 19  Vancouver   \n",
       "48172          2014-02-24   65                 24   Victoria   \n",
       "\n",
       "        department_name                  job_title  store_name gender_short  \\\n",
       "48168          Training         Director, Training          35            M   \n",
       "48169  Store Management              Store Manager          19            F   \n",
       "48170  Store Management              Store Manager          16            M   \n",
       "48171   Labor Relations  Director, Labor Relations          35            M   \n",
       "48172  Store Management              Store Manager          37            F   \n",
       "\n",
       "      gender_full termreason_desc termtype_desc  STATUS_YEAR      STATUS  \\\n",
       "48168        Male      Retirement     Voluntary         2009  TERMINATED   \n",
       "48169      Female      Retirement     Voluntary         2014  TERMINATED   \n",
       "48170        Male      Retirement     Voluntary         2009  TERMINATED   \n",
       "48171        Male      Retirement     Voluntary         2009  TERMINATED   \n",
       "48172      Female      Retirement     Voluntary         2014  TERMINATED   \n",
       "\n",
       "      BUSINESS_UNIT gen  \n",
       "48168    HEADOFFICE   4  \n",
       "48169        STORES   4  \n",
       "48170        STORES   4  \n",
       "48171    HEADOFFICE   4  \n",
       "48172        STORES   4  "
      ]
     },
     "execution_count": 20,
     "metadata": {},
     "output_type": "execute_result"
    }
   ],
   "source": [
    "df_terminated['gen'] = pd.cut(df_terminated.age, bins=[19,25,35,45,55,65], labels=[0,1,2,3,4])\n",
    "df_terminated.head()"
   ]
  },
  {
   "cell_type": "markdown",
   "metadata": {},
   "source": [
    "#### Analyze Termination data by Generation group and Length of Service"
   ]
  },
  {
   "cell_type": "code",
   "execution_count": 21,
   "metadata": {
    "ExecuteTime": {
     "end_time": "2020-03-02T06:35:34.334729Z",
     "start_time": "2020-03-02T06:35:33.375477Z"
    }
   },
   "outputs": [
    {
     "data": {
      "text/plain": [
       "<seaborn.axisgrid.JointGrid at 0x1f67ea2fef0>"
      ]
     },
     "execution_count": 21,
     "metadata": {},
     "output_type": "execute_result"
    },
    {
     "data": {
      "image/png": "[encoded data removed]",
      "text/plain": [
       "<Figure size 432x432 with 3 Axes>"
      ]
     },
     "metadata": {
      "needs_background": "light"
     },
     "output_type": "display_data"
    }
   ],
   "source": [
    "sns.jointplot(df_terminated.gen, df_terminated.length_of_service, color='r')"
   ]
  },
  {
   "cell_type": "markdown",
   "metadata": {},
   "source": [
    "#### Asumsi\n",
    "\n",
    "1. Puncak tertinggi dari Age-Gen adalah yg berusia antara (55-65) tahun dan masa kerja sekitar 25 tahun, sesuai yg kita ketahui, itu adalah masa pensiun.\n",
    "2. Yang kedua dari kelompok age-gen usia antara 19 - 25 tahun, dengan masa kerja dibawah 5 tahun, mengindikasikan generasi muda yg ingin mencari pekerjaan sesuai minat mereka.\n",
    "3. Ketiga adalah kelompok usia 26 - 35 tahun dengan masa kerja sekitar 10 tahunan, mengindikasikan mereka yg jenuh dengan karir sekarang dan ingin berganti karir dan atau mereka yg sudah memiliki keluarga, dan keluarga mempengaruhi keputusan mereka untuk berhenti dari perusahaan sekarang.\n",
    "4. Beberapa kelompok usia 55-65 pensiun di masa kerja 10 - 15 tahun. Biasanya mereka yg join ke perusahaan di usia middle-age (sekitar 40 tahunan)"
   ]
  },
  {
   "cell_type": "markdown",
   "metadata": {},
   "source": [
    "#### Analyze Data by Business Unit"
   ]
  },
  {
   "cell_type": "code",
   "execution_count": 22,
   "metadata": {
    "ExecuteTime": {
     "end_time": "2020-03-02T06:35:34.937418Z",
     "start_time": "2020-03-02T06:35:34.337722Z"
    }
   },
   "outputs": [
    {
     "data": {
      "image/png": "[encoded data removed]",
      "text/plain": [
       "<Figure size 720x432 with 2 Axes>"
      ]
     },
     "metadata": {
      "needs_background": "light"
     },
     "output_type": "display_data"
    }
   ],
   "source": [
    "plot_cat('BUSINESS_UNIT')"
   ]
  },
  {
   "cell_type": "markdown",
   "metadata": {},
   "source": [
    "**insight** Jika dilihat, ada perbedaan jumlah yg signifikan antara karyawan di BU store dan Headoffice"
   ]
  },
  {
   "cell_type": "markdown",
   "metadata": {
    "ExecuteTime": {
     "end_time": "2020-02-26T06:42:23.463357Z",
     "start_time": "2020-02-26T06:42:23.270845Z"
    }
   },
   "source": [
    "### Categorize the Job Level and Department Name"
   ]
  },
  {
   "cell_type": "markdown",
   "metadata": {},
   "source": [
    "#### Categorize Job Level"
   ]
  },
  {
   "cell_type": "markdown",
   "metadata": {},
   "source": [
    "Kelompokkan Job Title sesuai level, jika dilihat secara seksama, ada 4 kelompok besar\n",
    "1. Staff\n",
    "2. Manager (title Manager)\n",
    "3. Board (Director Level)\n",
    "4. Executive (C - Level)"
   ]
  },
  {
   "cell_type": "code",
   "execution_count": 23,
   "metadata": {
    "ExecuteTime": {
     "end_time": "2020-03-02T06:35:34.950440Z",
     "start_time": "2020-03-02T06:35:34.940480Z"
    }
   },
   "outputs": [],
   "source": [
    "staff = ['Meat Cutter', 'Dairy Person', 'Produce Clerk', 'Baker', 'Cashier',\n",
    "            'Shelf Stocker', 'Recruiter', 'HRIS Analyst', 'Accounting Clerk',\n",
    "            'Benefits Admin', 'Labor Relations Analyst', 'Accounts Receiveable Clerk',\n",
    "            'Accounts Payable Clerk', 'Auditor', 'Compensation Analyst',\n",
    "            'Investment Analyst', 'Systems Analyst', 'Corporate Lawyer', 'Legal Counsel']\n",
    "\n",
    "manager = ['Customer Service Manager', 'Processed Foods Manager', 'Meats Manager',\n",
    "           'Bakery Manager', 'Produce Manager', 'Store Manager', 'Trainer', 'Dairy Manager']\n",
    "\n",
    "executive = ['Exec Assistant, Finance', 'Exec Assistant, Legal Counsel',\n",
    "             'CHief Information Officer', 'CEO', 'Exec Assistant, Human Resources',\n",
    "             'Exec Assistant, VP Stores']\n",
    "\n",
    "board = ['VP Stores', 'Director, Recruitment', 'VP Human Resources', 'VP Finance',\n",
    "         'Director, Accounts Receivable', 'Director, Accounting',\n",
    "         'Director, Employee Records', 'Director, Accounts Payable',\n",
    "         'Director, HR Technology', 'Director, Investments',\n",
    "         'Director, Labor Relations', 'Director, Audit', 'Director, Training',\n",
    "         'Director, Compensation']"
   ]
  },
  {
   "cell_type": "markdown",
   "metadata": {},
   "source": [
    "#### Function to Categorize Job Level"
   ]
  },
  {
   "cell_type": "code",
   "execution_count": 24,
   "metadata": {
    "ExecuteTime": {
     "end_time": "2020-03-02T06:35:34.964861Z",
     "start_time": "2020-03-02T06:35:34.953844Z"
    }
   },
   "outputs": [],
   "source": [
    "def job_cat(x):\n",
    "    if x in staff:\n",
    "        x = 0\n",
    "    elif x in manager:\n",
    "        x = 1\n",
    "    elif x in board:\n",
    "        x = 2\n",
    "    else:\n",
    "        x = 3\n",
    "    return x"
   ]
  },
  {
   "cell_type": "code",
   "execution_count": 25,
   "metadata": {
    "ExecuteTime": {
     "end_time": "2020-03-02T06:35:35.028074Z",
     "start_time": "2020-03-02T06:35:34.967852Z"
    }
   },
   "outputs": [],
   "source": [
    "df_terminated['job_level'] = df_terminated.job_title.apply(job_cat)"
   ]
  },
  {
   "cell_type": "markdown",
   "metadata": {},
   "source": [
    "#### Categorize Department Name"
   ]
  },
  {
   "cell_type": "markdown",
   "metadata": {},
   "source": [
    "Kelompokkan departemen berdasarkan tugas utama departemen tersebut,\n",
    "ada dua kelompok utama, yaitu departemen yg mengurusi Core bisnis dari Store yaitu melayani kebutuhan pelanggan\n",
    "dan departemen yg berfungsi sebagai support dan mengurusi kebutuhan dari bisnis itu sendiri\n",
    "sehingga ada 2 kelompok yaitu : \n",
    "1. Customer\n",
    "2. Business"
   ]
  },
  {
   "cell_type": "code",
   "execution_count": 26,
   "metadata": {
    "ExecuteTime": {
     "end_time": "2020-03-02T06:35:35.036416Z",
     "start_time": "2020-03-02T06:35:35.031068Z"
    }
   },
   "outputs": [],
   "source": [
    "customer = ['Meats', 'Dairy', 'Produce', 'Bakery', 'Customer Service', 'Processed Foods']\n",
    "\n",
    "business = ['Store Management', 'Executive', 'Recruitment', 'HR Technology',\n",
    "             'Accounting', 'Employee Records', 'Accounts Receiveable',\n",
    "             'Accounts Payable', 'Labor Relations', 'Training', 'Compensation',\n",
    "             'Audit', 'Investment', 'Information Technology', 'Legal']"
   ]
  },
  {
   "cell_type": "markdown",
   "metadata": {},
   "source": [
    "#### Function to Categorize Department Name"
   ]
  },
  {
   "cell_type": "code",
   "execution_count": 27,
   "metadata": {
    "ExecuteTime": {
     "end_time": "2020-03-02T06:35:35.045298Z",
     "start_time": "2020-03-02T06:35:35.039444Z"
    }
   },
   "outputs": [],
   "source": [
    "def dept_cat(x):\n",
    "    if x in customer:\n",
    "        x = 'Customer'\n",
    "    else:\n",
    "        x = 'Business'\n",
    "    return x"
   ]
  },
  {
   "cell_type": "code",
   "execution_count": 28,
   "metadata": {
    "ExecuteTime": {
     "end_time": "2020-03-02T06:35:35.057536Z",
     "start_time": "2020-03-02T06:35:35.048292Z"
    }
   },
   "outputs": [],
   "source": [
    "df_terminated['dept_category'] = df_terminated['department_name'].apply(dept_cat)"
   ]
  },
  {
   "cell_type": "markdown",
   "metadata": {},
   "source": [
    "### Analyze Termination Data by Department Category, Job Level, Age and Length of Service"
   ]
  },
  {
   "cell_type": "code",
   "execution_count": 29,
   "metadata": {
    "ExecuteTime": {
     "end_time": "2020-03-02T06:35:37.776960Z",
     "start_time": "2020-03-02T06:35:35.060529Z"
    }
   },
   "outputs": [
    {
     "data": {
      "image/png": "[encoded data removed]",
      "text/plain": [
       "<Figure size 506.125x648 with 6 Axes>"
      ]
     },
     "metadata": {
      "needs_background": "light"
     },
     "output_type": "display_data"
    }
   ],
   "source": [
    "g = sns.FacetGrid(df_terminated, col='dept_category', row='job_level', palette='bwr', \n",
    "                  hue='gender_short', margin_titles=True)\n",
    "g = (g.map(plt.scatter, 'age', 'length_of_service').add_legend())"
   ]
  },
  {
   "cell_type": "markdown",
   "metadata": {},
   "source": [
    "### Analyze Termination Data By dept_category, termination reason, termination type, age and length of service"
   ]
  },
  {
   "cell_type": "code",
   "execution_count": 30,
   "metadata": {
    "ExecuteTime": {
     "end_time": "2020-03-02T06:35:40.450423Z",
     "start_time": "2020-03-02T06:35:37.779952Z"
    }
   },
   "outputs": [
    {
     "data": {
      "image/png": "[encoded data removed]",
      "text/plain": [
       "<Figure size 524.75x648 with 6 Axes>"
      ]
     },
     "metadata": {
      "needs_background": "light"
     },
     "output_type": "display_data"
    }
   ],
   "source": [
    "g = sns.FacetGrid(df_terminated, col='dept_category', row='termreason_desc', palette='bwr', \n",
    "                  hue='termtype_desc', margin_titles=True)\n",
    "g = (g.map(plt.scatter, 'age', 'length_of_service').add_legend())"
   ]
  },
  {
   "cell_type": "markdown",
   "metadata": {},
   "source": [
    "**Insight** :\n",
    "\n",
    "1. Employee yg bekerja dibagian core pekerjaan handle Customer sebagian besar terkena dampak Layoff(Efiensi), hanya sebagian kecil dari Employee yg dibagian Supporting (Business) yg terkena Layoff, kalaupun terkena, hanya yg usia 50 tahun keatas dan memiliki masa kerja diatas 20 tahun.\n",
    "2. Hanya sedikit Employee di departemen yg handle customer yg berhenti karena pensiun.\n",
    "3. Employee yg berhenti bekerja dari departemen supporting (Business) sebagian besar berusia diatas 50 tahun, dan jumlahnya sedikit jika dibanding Employee yg bekerja di departemen Core (Customer) "
   ]
  },
  {
   "cell_type": "markdown",
   "metadata": {},
   "source": [
    "### Analyze Termination Employee Data by Termination Reason, Job Level, Age and Length of Service"
   ]
  },
  {
   "cell_type": "code",
   "execution_count": 31,
   "metadata": {
    "ExecuteTime": {
     "end_time": "2020-03-02T06:35:44.129584Z",
     "start_time": "2020-03-02T06:35:40.452419Z"
    }
   },
   "outputs": [
    {
     "data": {
      "image/png": "[encoded data removed]",
      "text/plain": [
       "<Figure size 740.75x648 with 9 Axes>"
      ]
     },
     "metadata": {
      "needs_background": "light"
     },
     "output_type": "display_data"
    }
   ],
   "source": [
    "g = sns.FacetGrid(df_terminated, col='job_level', row='termreason_desc', palette='bwr', \n",
    "                  hue='termtype_desc', margin_titles=True)\n",
    "g = (g.map(plt.scatter, 'age', 'length_of_service').add_legend())"
   ]
  },
  {
   "cell_type": "markdown",
   "metadata": {},
   "source": [
    "Beberapa **Insight** yg dapat diambil dari grafik diatas :\n",
    "1. Tidak ada Employee dengan level Executive yg berhenti bekerja dari perusahaan.\n",
    "2. Penyebab Employee level Director berhenti dari perusahaan adalah Pensiun (Retirement), Tidak ada yg berhenti karena Resign maupun terkena Efisiensi(Layoff)\n",
    "3. Pada Employee Level Manager, sedikit yg mengajukan Resign, beberapa berhenti karena pensiun kebanyakan memiliki masa kerja diatas 20 tahun.\n",
    "4. Ketika terjadi Efisiensi (Layoff), Employee level Staff paling terkena dampaknya, selanjutnya adalah beberapa manager (yang kemungkinan karena under-perform)\n",
    "5. Penyebab Employee Level Staff berhenti adalah karena terkena proses Efisiensi dan maupun memang mengajukan Resign (Pengunduran diri), sedikit dari Employee level Staff yg berhenti karena Pensiun."
   ]
  },
  {
   "cell_type": "markdown",
   "metadata": {},
   "source": [
    "### Analyze Data Terminated Employee by Record Year"
   ]
  },
  {
   "cell_type": "code",
   "execution_count": 32,
   "metadata": {
    "ExecuteTime": {
     "end_time": "2020-03-02T06:35:44.684719Z",
     "start_time": "2020-03-02T06:35:44.133585Z"
    }
   },
   "outputs": [
    {
     "data": {
      "text/plain": [
       "Text(0.5, 0, 'Terminated Employee')"
      ]
     },
     "execution_count": 32,
     "metadata": {},
     "output_type": "execute_result"
    },
    {
     "data": {
      "image/png": "[encoded data removed]",
      "text/plain": [
       "<Figure size 720x432 with 1 Axes>"
      ]
     },
     "metadata": {
      "needs_background": "light"
     },
     "output_type": "display_data"
    }
   ],
   "source": [
    "plt.figure(figsize=(10,6))\n",
    "\n",
    "sns.countplot(data=df_terminated, x = 'STATUS_YEAR')\n",
    "plt.xlabel('Terminated Employee')"
   ]
  },
  {
   "cell_type": "markdown",
   "metadata": {},
   "source": [
    "**Insight** :\n",
    "\n",
    "Berdasarkan grafik diatas, terlihat kenaikan karyawan terjadi pada tahun 2014, untuk penyebabnya harus melakukan observasi lebih jauh bersama dengan tim HR."
   ]
  },
  {
   "cell_type": "markdown",
   "metadata": {
    "ExecuteTime": {
     "end_time": "2020-02-26T08:25:18.965932Z",
     "start_time": "2020-02-26T08:25:18.892120Z"
    }
   },
   "source": [
    "## Analyze the Data by Describing the Data"
   ]
  },
  {
   "cell_type": "markdown",
   "metadata": {},
   "source": [
    "### Analyze Gender and STATUS"
   ]
  },
  {
   "cell_type": "code",
   "execution_count": 33,
   "metadata": {
    "ExecuteTime": {
     "end_time": "2020-03-02T06:35:44.798808Z",
     "start_time": "2020-03-02T06:35:44.688716Z"
    }
   },
   "outputs": [
    {
     "data": {
      "text/html": [
       "<div>\n",
       "<style scoped>\n",
       "    .dataframe tbody tr th:only-of-type {\n",
       "        vertical-align: middle;\n",
       "    }\n",
       "\n",
       "    .dataframe tbody tr th {\n",
       "        vertical-align: top;\n",
       "    }\n",
       "\n",
       "    .dataframe thead th {\n",
       "        text-align: right;\n",
       "    }\n",
       "</style>\n",
       "<table border=\"1\" class=\"dataframe\">\n",
       "  <thead>\n",
       "    <tr style=\"text-align: right;\">\n",
       "      <th>STATUS</th>\n",
       "      <th>ACTIVE</th>\n",
       "      <th>TERMINATED</th>\n",
       "      <th>%Terminate</th>\n",
       "    </tr>\n",
       "    <tr>\n",
       "      <th>gender_full</th>\n",
       "      <th></th>\n",
       "      <th></th>\n",
       "      <th></th>\n",
       "    </tr>\n",
       "  </thead>\n",
       "  <tbody>\n",
       "    <tr>\n",
       "      <th>Female</th>\n",
       "      <td>24983</td>\n",
       "      <td>915</td>\n",
       "      <td>3.533091</td>\n",
       "    </tr>\n",
       "    <tr>\n",
       "      <th>Male</th>\n",
       "      <td>23185</td>\n",
       "      <td>570</td>\n",
       "      <td>2.399495</td>\n",
       "    </tr>\n",
       "  </tbody>\n",
       "</table>\n",
       "</div>"
      ],
      "text/plain": [
       "STATUS       ACTIVE  TERMINATED  %Terminate\n",
       "gender_full                                \n",
       "Female        24983         915    3.533091\n",
       "Male          23185         570    2.399495"
      ]
     },
     "execution_count": 33,
     "metadata": {},
     "output_type": "execute_result"
    }
   ],
   "source": [
    "df_gender = pd.crosstab(df.STATUS, df.gender_full).T\n",
    "df_gender['%Terminate'] = (df_gender.TERMINATED / (df_gender.ACTIVE+df_gender.TERMINATED)) *100\n",
    "df_gender"
   ]
  },
  {
   "cell_type": "markdown",
   "metadata": {},
   "source": [
    "**Insight** : Dari segi gender, tidak ada perbedaan signifikan untuk persentase karyawan yg diterminate"
   ]
  },
  {
   "cell_type": "markdown",
   "metadata": {},
   "source": [
    "### Analyze by Department Name"
   ]
  },
  {
   "cell_type": "code",
   "execution_count": 34,
   "metadata": {
    "ExecuteTime": {
     "end_time": "2020-03-02T06:35:44.888162Z",
     "start_time": "2020-03-02T06:35:44.804827Z"
    }
   },
   "outputs": [
    {
     "data": {
      "text/html": [
       "<div>\n",
       "<style scoped>\n",
       "    .dataframe tbody tr th:only-of-type {\n",
       "        vertical-align: middle;\n",
       "    }\n",
       "\n",
       "    .dataframe tbody tr th {\n",
       "        vertical-align: top;\n",
       "    }\n",
       "\n",
       "    .dataframe thead th {\n",
       "        text-align: right;\n",
       "    }\n",
       "</style>\n",
       "<table border=\"1\" class=\"dataframe\">\n",
       "  <thead>\n",
       "    <tr style=\"text-align: right;\">\n",
       "      <th>STATUS</th>\n",
       "      <th>ACTIVE</th>\n",
       "      <th>TERMINATED</th>\n",
       "    </tr>\n",
       "    <tr>\n",
       "      <th>department_name</th>\n",
       "      <th></th>\n",
       "      <th></th>\n",
       "    </tr>\n",
       "  </thead>\n",
       "  <tbody>\n",
       "    <tr>\n",
       "      <th>Accounting</th>\n",
       "      <td>53</td>\n",
       "      <td>6</td>\n",
       "    </tr>\n",
       "    <tr>\n",
       "      <th>Accounts Payable</th>\n",
       "      <td>30</td>\n",
       "      <td>4</td>\n",
       "    </tr>\n",
       "    <tr>\n",
       "      <th>Accounts Receiveable</th>\n",
       "      <td>34</td>\n",
       "      <td>5</td>\n",
       "    </tr>\n",
       "    <tr>\n",
       "      <th>Audit</th>\n",
       "      <td>20</td>\n",
       "      <td>4</td>\n",
       "    </tr>\n",
       "    <tr>\n",
       "      <th>Bakery</th>\n",
       "      <td>8269</td>\n",
       "      <td>112</td>\n",
       "    </tr>\n",
       "    <tr>\n",
       "      <th>Compensation</th>\n",
       "      <td>20</td>\n",
       "      <td>4</td>\n",
       "    </tr>\n",
       "    <tr>\n",
       "      <th>Customer Service</th>\n",
       "      <td>6860</td>\n",
       "      <td>262</td>\n",
       "    </tr>\n",
       "    <tr>\n",
       "      <th>Dairy</th>\n",
       "      <td>8408</td>\n",
       "      <td>191</td>\n",
       "    </tr>\n",
       "    <tr>\n",
       "      <th>Employee Records</th>\n",
       "      <td>38</td>\n",
       "      <td>6</td>\n",
       "    </tr>\n",
       "    <tr>\n",
       "      <th>Executive</th>\n",
       "      <td>100</td>\n",
       "      <td>0</td>\n",
       "    </tr>\n",
       "    <tr>\n",
       "      <th>HR Technology</th>\n",
       "      <td>55</td>\n",
       "      <td>9</td>\n",
       "    </tr>\n",
       "    <tr>\n",
       "      <th>Information Technology</th>\n",
       "      <td>15</td>\n",
       "      <td>5</td>\n",
       "    </tr>\n",
       "    <tr>\n",
       "      <th>Investment</th>\n",
       "      <td>20</td>\n",
       "      <td>4</td>\n",
       "    </tr>\n",
       "    <tr>\n",
       "      <th>Labor Relations</th>\n",
       "      <td>28</td>\n",
       "      <td>6</td>\n",
       "    </tr>\n",
       "    <tr>\n",
       "      <th>Legal</th>\n",
       "      <td>14</td>\n",
       "      <td>3</td>\n",
       "    </tr>\n",
       "    <tr>\n",
       "      <th>Meats</th>\n",
       "      <td>9892</td>\n",
       "      <td>377</td>\n",
       "    </tr>\n",
       "    <tr>\n",
       "      <th>Processed Foods</th>\n",
       "      <td>5821</td>\n",
       "      <td>90</td>\n",
       "    </tr>\n",
       "    <tr>\n",
       "      <th>Produce</th>\n",
       "      <td>8162</td>\n",
       "      <td>353</td>\n",
       "    </tr>\n",
       "    <tr>\n",
       "      <th>Recruitment</th>\n",
       "      <td>64</td>\n",
       "      <td>8</td>\n",
       "    </tr>\n",
       "    <tr>\n",
       "      <th>Store Management</th>\n",
       "      <td>240</td>\n",
       "      <td>31</td>\n",
       "    </tr>\n",
       "    <tr>\n",
       "      <th>Training</th>\n",
       "      <td>25</td>\n",
       "      <td>5</td>\n",
       "    </tr>\n",
       "  </tbody>\n",
       "</table>\n",
       "</div>"
      ],
      "text/plain": [
       "STATUS                  ACTIVE  TERMINATED\n",
       "department_name                           \n",
       "Accounting                  53           6\n",
       "Accounts Payable            30           4\n",
       "Accounts Receiveable        34           5\n",
       "Audit                       20           4\n",
       "Bakery                    8269         112\n",
       "Compensation                20           4\n",
       "Customer Service          6860         262\n",
       "Dairy                     8408         191\n",
       "Employee Records            38           6\n",
       "Executive                  100           0\n",
       "HR Technology               55           9\n",
       "Information Technology      15           5\n",
       "Investment                  20           4\n",
       "Labor Relations             28           6\n",
       "Legal                       14           3\n",
       "Meats                     9892         377\n",
       "Processed Foods           5821          90\n",
       "Produce                   8162         353\n",
       "Recruitment                 64           8\n",
       "Store Management           240          31\n",
       "Training                    25           5"
      ]
     },
     "execution_count": 34,
     "metadata": {},
     "output_type": "execute_result"
    }
   ],
   "source": [
    "pd.crosstab(df.STATUS, df.department_name).T"
   ]
  },
  {
   "cell_type": "markdown",
   "metadata": {},
   "source": [
    "**insight** Hanya bagian Executive yg tidak ada karyawan terminate"
   ]
  },
  {
   "cell_type": "markdown",
   "metadata": {},
   "source": [
    "### Analyze Data by Business Unit"
   ]
  },
  {
   "cell_type": "code",
   "execution_count": 35,
   "metadata": {
    "ExecuteTime": {
     "end_time": "2020-03-02T06:35:44.962048Z",
     "start_time": "2020-03-02T06:35:44.894126Z"
    }
   },
   "outputs": [
    {
     "data": {
      "text/html": [
       "<div>\n",
       "<style scoped>\n",
       "    .dataframe tbody tr th:only-of-type {\n",
       "        vertical-align: middle;\n",
       "    }\n",
       "\n",
       "    .dataframe tbody tr th {\n",
       "        vertical-align: top;\n",
       "    }\n",
       "\n",
       "    .dataframe thead th {\n",
       "        text-align: right;\n",
       "    }\n",
       "</style>\n",
       "<table border=\"1\" class=\"dataframe\">\n",
       "  <thead>\n",
       "    <tr style=\"text-align: right;\">\n",
       "      <th>STATUS</th>\n",
       "      <th>ACTIVE</th>\n",
       "      <th>TERMINATED</th>\n",
       "      <th>%Terminate</th>\n",
       "    </tr>\n",
       "    <tr>\n",
       "      <th>BUSINESS_UNIT</th>\n",
       "      <th></th>\n",
       "      <th></th>\n",
       "      <th></th>\n",
       "    </tr>\n",
       "  </thead>\n",
       "  <tbody>\n",
       "    <tr>\n",
       "      <th>HEADOFFICE</th>\n",
       "      <td>516</td>\n",
       "      <td>69</td>\n",
       "      <td>11.794872</td>\n",
       "    </tr>\n",
       "    <tr>\n",
       "      <th>STORES</th>\n",
       "      <td>47652</td>\n",
       "      <td>1416</td>\n",
       "      <td>2.885791</td>\n",
       "    </tr>\n",
       "  </tbody>\n",
       "</table>\n",
       "</div>"
      ],
      "text/plain": [
       "STATUS         ACTIVE  TERMINATED  %Terminate\n",
       "BUSINESS_UNIT                                \n",
       "HEADOFFICE        516          69   11.794872\n",
       "STORES          47652        1416    2.885791"
      ]
     },
     "execution_count": 35,
     "metadata": {},
     "output_type": "execute_result"
    }
   ],
   "source": [
    "df_BU = pd.crosstab(df.STATUS, df.BUSINESS_UNIT).T\n",
    "df_BU['%Terminate'] = (df_BU.TERMINATED / (df_BU.ACTIVE+df_BU.TERMINATED)) *100\n",
    "df_BU"
   ]
  },
  {
   "cell_type": "markdown",
   "metadata": {},
   "source": [
    "**Insight** ada 2 Bisnis unit yg ada, yaitu Headoffice dan Store, secara jumlah karyawan store jauh lebih banyak yg terminate, tetapi secara presentase, karyawan di BU Headoffice lebih banyak yg terminate."
   ]
  },
  {
   "cell_type": "markdown",
   "metadata": {},
   "source": [
    "### Analyze by city name"
   ]
  },
  {
   "cell_type": "code",
   "execution_count": 39,
   "metadata": {
    "ExecuteTime": {
     "end_time": "2020-03-02T06:49:56.344330Z",
     "start_time": "2020-03-02T06:49:56.299516Z"
    }
   },
   "outputs": [
    {
     "data": {
      "text/html": [
       "<div>\n",
       "<style scoped>\n",
       "    .dataframe tbody tr th:only-of-type {\n",
       "        vertical-align: middle;\n",
       "    }\n",
       "\n",
       "    .dataframe tbody tr th {\n",
       "        vertical-align: top;\n",
       "    }\n",
       "\n",
       "    .dataframe thead th {\n",
       "        text-align: right;\n",
       "    }\n",
       "</style>\n",
       "<table border=\"1\" class=\"dataframe\">\n",
       "  <thead>\n",
       "    <tr style=\"text-align: right;\">\n",
       "      <th>STATUS</th>\n",
       "      <th>ACTIVE</th>\n",
       "      <th>TERMINATED</th>\n",
       "      <th>%Terminate</th>\n",
       "    </tr>\n",
       "    <tr>\n",
       "      <th>city_name</th>\n",
       "      <th></th>\n",
       "      <th></th>\n",
       "      <th></th>\n",
       "    </tr>\n",
       "  </thead>\n",
       "  <tbody>\n",
       "    <tr>\n",
       "      <th>Abbotsford</th>\n",
       "      <td>663</td>\n",
       "      <td>18</td>\n",
       "      <td>2.643172</td>\n",
       "    </tr>\n",
       "    <tr>\n",
       "      <th>Aldergrove</th>\n",
       "      <td>509</td>\n",
       "      <td>11</td>\n",
       "      <td>2.115385</td>\n",
       "    </tr>\n",
       "    <tr>\n",
       "      <th>Bella Bella</th>\n",
       "      <td>121</td>\n",
       "      <td>5</td>\n",
       "      <td>3.968254</td>\n",
       "    </tr>\n",
       "    <tr>\n",
       "      <th>Blue River</th>\n",
       "      <td>8</td>\n",
       "      <td>1</td>\n",
       "      <td>11.111111</td>\n",
       "    </tr>\n",
       "    <tr>\n",
       "      <th>Burnaby</th>\n",
       "      <td>2033</td>\n",
       "      <td>34</td>\n",
       "      <td>1.644896</td>\n",
       "    </tr>\n",
       "    <tr>\n",
       "      <th>Chilliwack</th>\n",
       "      <td>1135</td>\n",
       "      <td>32</td>\n",
       "      <td>2.742074</td>\n",
       "    </tr>\n",
       "    <tr>\n",
       "      <th>Cortes Island</th>\n",
       "      <td>37</td>\n",
       "      <td>6</td>\n",
       "      <td>13.953488</td>\n",
       "    </tr>\n",
       "    <tr>\n",
       "      <th>Cranbrook</th>\n",
       "      <td>1752</td>\n",
       "      <td>33</td>\n",
       "      <td>1.848739</td>\n",
       "    </tr>\n",
       "    <tr>\n",
       "      <th>Dawson Creek</th>\n",
       "      <td>111</td>\n",
       "      <td>18</td>\n",
       "      <td>13.953488</td>\n",
       "    </tr>\n",
       "    <tr>\n",
       "      <th>Dease Lake</th>\n",
       "      <td>16</td>\n",
       "      <td>2</td>\n",
       "      <td>11.111111</td>\n",
       "    </tr>\n",
       "    <tr>\n",
       "      <th>Fort Nelson</th>\n",
       "      <td>275</td>\n",
       "      <td>47</td>\n",
       "      <td>14.596273</td>\n",
       "    </tr>\n",
       "    <tr>\n",
       "      <th>Fort St John</th>\n",
       "      <td>593</td>\n",
       "      <td>28</td>\n",
       "      <td>4.508857</td>\n",
       "    </tr>\n",
       "    <tr>\n",
       "      <th>Grand Forks</th>\n",
       "      <td>203</td>\n",
       "      <td>33</td>\n",
       "      <td>13.983051</td>\n",
       "    </tr>\n",
       "    <tr>\n",
       "      <th>Haney</th>\n",
       "      <td>158</td>\n",
       "      <td>24</td>\n",
       "      <td>13.186813</td>\n",
       "    </tr>\n",
       "    <tr>\n",
       "      <th>Kamloops</th>\n",
       "      <td>2000</td>\n",
       "      <td>61</td>\n",
       "      <td>2.959728</td>\n",
       "    </tr>\n",
       "    <tr>\n",
       "      <th>Kelowna</th>\n",
       "      <td>2454</td>\n",
       "      <td>59</td>\n",
       "      <td>2.347791</td>\n",
       "    </tr>\n",
       "    <tr>\n",
       "      <th>Langley</th>\n",
       "      <td>874</td>\n",
       "      <td>27</td>\n",
       "      <td>2.996670</td>\n",
       "    </tr>\n",
       "    <tr>\n",
       "      <th>Nanaimo</th>\n",
       "      <td>3794</td>\n",
       "      <td>82</td>\n",
       "      <td>2.115583</td>\n",
       "    </tr>\n",
       "    <tr>\n",
       "      <th>Nelson</th>\n",
       "      <td>310</td>\n",
       "      <td>7</td>\n",
       "      <td>2.208202</td>\n",
       "    </tr>\n",
       "    <tr>\n",
       "      <th>New Westminister</th>\n",
       "      <td>210</td>\n",
       "      <td>44</td>\n",
       "      <td>17.322835</td>\n",
       "    </tr>\n",
       "    <tr>\n",
       "      <th>New Westminster</th>\n",
       "      <td>3141</td>\n",
       "      <td>70</td>\n",
       "      <td>2.180006</td>\n",
       "    </tr>\n",
       "    <tr>\n",
       "      <th>North Vancouver</th>\n",
       "      <td>636</td>\n",
       "      <td>12</td>\n",
       "      <td>1.851852</td>\n",
       "    </tr>\n",
       "    <tr>\n",
       "      <th>Ocean Falls</th>\n",
       "      <td>58</td>\n",
       "      <td>7</td>\n",
       "      <td>10.769231</td>\n",
       "    </tr>\n",
       "    <tr>\n",
       "      <th>Pitt Meadows</th>\n",
       "      <td>48</td>\n",
       "      <td>9</td>\n",
       "      <td>15.789474</td>\n",
       "    </tr>\n",
       "    <tr>\n",
       "      <th>Port Coquitlam</th>\n",
       "      <td>530</td>\n",
       "      <td>15</td>\n",
       "      <td>2.752294</td>\n",
       "    </tr>\n",
       "    <tr>\n",
       "      <th>Prince George</th>\n",
       "      <td>1993</td>\n",
       "      <td>55</td>\n",
       "      <td>2.685547</td>\n",
       "    </tr>\n",
       "    <tr>\n",
       "      <th>Princeton</th>\n",
       "      <td>117</td>\n",
       "      <td>19</td>\n",
       "      <td>13.970588</td>\n",
       "    </tr>\n",
       "    <tr>\n",
       "      <th>Quesnel</th>\n",
       "      <td>672</td>\n",
       "      <td>31</td>\n",
       "      <td>4.409673</td>\n",
       "    </tr>\n",
       "    <tr>\n",
       "      <th>Richmond</th>\n",
       "      <td>1373</td>\n",
       "      <td>28</td>\n",
       "      <td>1.998572</td>\n",
       "    </tr>\n",
       "    <tr>\n",
       "      <th>Squamish</th>\n",
       "      <td>784</td>\n",
       "      <td>22</td>\n",
       "      <td>2.729529</td>\n",
       "    </tr>\n",
       "    <tr>\n",
       "      <th>Surrey</th>\n",
       "      <td>1516</td>\n",
       "      <td>44</td>\n",
       "      <td>2.820513</td>\n",
       "    </tr>\n",
       "    <tr>\n",
       "      <th>Terrace</th>\n",
       "      <td>1187</td>\n",
       "      <td>41</td>\n",
       "      <td>3.338762</td>\n",
       "    </tr>\n",
       "    <tr>\n",
       "      <th>Trail</th>\n",
       "      <td>899</td>\n",
       "      <td>26</td>\n",
       "      <td>2.810811</td>\n",
       "    </tr>\n",
       "    <tr>\n",
       "      <th>Valemount</th>\n",
       "      <td>32</td>\n",
       "      <td>5</td>\n",
       "      <td>13.513514</td>\n",
       "    </tr>\n",
       "    <tr>\n",
       "      <th>Vancouver</th>\n",
       "      <td>10915</td>\n",
       "      <td>296</td>\n",
       "      <td>2.640264</td>\n",
       "    </tr>\n",
       "    <tr>\n",
       "      <th>Vernon</th>\n",
       "      <td>876</td>\n",
       "      <td>22</td>\n",
       "      <td>2.449889</td>\n",
       "    </tr>\n",
       "    <tr>\n",
       "      <th>Victoria</th>\n",
       "      <td>4734</td>\n",
       "      <td>151</td>\n",
       "      <td>3.091095</td>\n",
       "    </tr>\n",
       "    <tr>\n",
       "      <th>West Vancouver</th>\n",
       "      <td>591</td>\n",
       "      <td>22</td>\n",
       "      <td>3.588907</td>\n",
       "    </tr>\n",
       "    <tr>\n",
       "      <th>White Rock</th>\n",
       "      <td>203</td>\n",
       "      <td>28</td>\n",
       "      <td>12.121212</td>\n",
       "    </tr>\n",
       "    <tr>\n",
       "      <th>Williams Lake</th>\n",
       "      <td>607</td>\n",
       "      <td>10</td>\n",
       "      <td>1.620746</td>\n",
       "    </tr>\n",
       "  </tbody>\n",
       "</table>\n",
       "</div>"
      ],
      "text/plain": [
       "STATUS            ACTIVE  TERMINATED  %Terminate\n",
       "city_name                                       \n",
       "Abbotsford           663          18    2.643172\n",
       "Aldergrove           509          11    2.115385\n",
       "Bella Bella          121           5    3.968254\n",
       "Blue River             8           1   11.111111\n",
       "Burnaby             2033          34    1.644896\n",
       "Chilliwack          1135          32    2.742074\n",
       "Cortes Island         37           6   13.953488\n",
       "Cranbrook           1752          33    1.848739\n",
       "Dawson Creek         111          18   13.953488\n",
       "Dease Lake            16           2   11.111111\n",
       "Fort Nelson          275          47   14.596273\n",
       "Fort St John         593          28    4.508857\n",
       "Grand Forks          203          33   13.983051\n",
       "Haney                158          24   13.186813\n",
       "Kamloops            2000          61    2.959728\n",
       "Kelowna             2454          59    2.347791\n",
       "Langley              874          27    2.996670\n",
       "Nanaimo             3794          82    2.115583\n",
       "Nelson               310           7    2.208202\n",
       "New Westminister     210          44   17.322835\n",
       "New Westminster     3141          70    2.180006\n",
       "North Vancouver      636          12    1.851852\n",
       "Ocean Falls           58           7   10.769231\n",
       "Pitt Meadows          48           9   15.789474\n",
       "Port Coquitlam       530          15    2.752294\n",
       "Prince George       1993          55    2.685547\n",
       "Princeton            117          19   13.970588\n",
       "Quesnel              672          31    4.409673\n",
       "Richmond            1373          28    1.998572\n",
       "Squamish             784          22    2.729529\n",
       "Surrey              1516          44    2.820513\n",
       "Terrace             1187          41    3.338762\n",
       "Trail                899          26    2.810811\n",
       "Valemount             32           5   13.513514\n",
       "Vancouver          10915         296    2.640264\n",
       "Vernon               876          22    2.449889\n",
       "Victoria            4734         151    3.091095\n",
       "West Vancouver       591          22    3.588907\n",
       "White Rock           203          28   12.121212\n",
       "Williams Lake        607          10    1.620746"
      ]
     },
     "execution_count": 39,
     "metadata": {},
     "output_type": "execute_result"
    }
   ],
   "source": [
    "df_city = pd.crosstab(df.STATUS, df.city_name).T\n",
    "df_city['%Terminate'] = (df_city.TERMINATED / (df_city.ACTIVE+df_city.TERMINATED)) *100\n",
    "df_city"
   ]
  },
  {
   "cell_type": "markdown",
   "metadata": {},
   "source": [
    "**insight** dari segi nama kota, hampir ada karyawan terminate di setiap kota"
   ]
  }
 ],
 "metadata": {
  "kernelspec": {
   "display_name": "Python [conda env:.conda-jcopml]",
   "language": "python",
   "name": "conda-env-.conda-jcopml-py"
  },
  "language_info": {
   "codemirror_mode": {
    "name": "ipython",
    "version": 3
   },
   "file_extension": ".py",
   "mimetype": "text/x-python",
   "name": "python",
   "nbconvert_exporter": "python",
   "pygments_lexer": "ipython3",
   "version": "3.6.7"
  }
 },
 "nbformat": 4,
 "nbformat_minor": 4
}
