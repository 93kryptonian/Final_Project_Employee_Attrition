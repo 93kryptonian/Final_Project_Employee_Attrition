{
 "cells": [
  {
   "cell_type": "markdown",
   "metadata": {},
   "source": [
    "# Import Package"
   ]
  },
  {
   "cell_type": "code",
   "execution_count": 91,
   "metadata": {
    "ExecuteTime": {
     "end_time": "2020-02-27T05:39:23.684814Z",
     "start_time": "2020-02-27T05:39:23.674841Z"
    }
   },
   "outputs": [],
   "source": [
    "import warnings\n",
    "warnings.filterwarnings('ignore')\n",
    "\n",
    "import numpy as np\n",
    "import pandas as pd\n",
    "import matplotlib.pyplot as plt\n",
    "import seaborn as sns\n",
    "\n",
    "from sklearn.model_selection import train_test_split, GridSearchCV, RandomizedSearchCV\n",
    "\n",
    "from sklearn.metrics import balanced_accuracy_score, f1_score, recall_score, confusion_matrix\n",
    "from sklearn.metrics import precision_recall_fscore_support, precision_score, roc_auc_score, classification_report\n",
    "from jcopml.plot import plot_classification_report, plot_confusion_matrix\n",
    "\n",
    "from sklearn.neighbors import KNeighborsClassifier\n",
    "from xgboost import XGBClassifier\n",
    "from sklearn.svm import SVC\n",
    "from sklearn.ensemble import RandomForestClassifier"
   ]
  },
  {
   "cell_type": "markdown",
   "metadata": {},
   "source": [
    "# Import Data"
   ]
  },
  {
   "cell_type": "code",
   "execution_count": 2,
   "metadata": {
    "ExecuteTime": {
     "end_time": "2020-02-27T00:28:44.626012Z",
     "start_time": "2020-02-27T00:28:44.530888Z"
    }
   },
   "outputs": [
    {
     "data": {
      "text/html": [
       "<div>\n",
       "<style scoped>\n",
       "    .dataframe tbody tr th:only-of-type {\n",
       "        vertical-align: middle;\n",
       "    }\n",
       "\n",
       "    .dataframe tbody tr th {\n",
       "        vertical-align: top;\n",
       "    }\n",
       "\n",
       "    .dataframe thead th {\n",
       "        text-align: right;\n",
       "    }\n",
       "</style>\n",
       "<table border=\"1\" class=\"dataframe\">\n",
       "  <thead>\n",
       "    <tr style=\"text-align: right;\">\n",
       "      <th></th>\n",
       "      <th>age</th>\n",
       "      <th>length_of_service</th>\n",
       "      <th>gender_short</th>\n",
       "      <th>STATUS</th>\n",
       "      <th>BUSINESS_UNIT</th>\n",
       "      <th>job_level</th>\n",
       "      <th>dept_category</th>\n",
       "    </tr>\n",
       "  </thead>\n",
       "  <tbody>\n",
       "    <tr>\n",
       "      <th>0</th>\n",
       "      <td>52</td>\n",
       "      <td>17</td>\n",
       "      <td>1</td>\n",
       "      <td>0</td>\n",
       "      <td>0</td>\n",
       "      <td>3</td>\n",
       "      <td>0</td>\n",
       "    </tr>\n",
       "    <tr>\n",
       "      <th>1</th>\n",
       "      <td>53</td>\n",
       "      <td>18</td>\n",
       "      <td>1</td>\n",
       "      <td>0</td>\n",
       "      <td>0</td>\n",
       "      <td>3</td>\n",
       "      <td>0</td>\n",
       "    </tr>\n",
       "    <tr>\n",
       "      <th>2</th>\n",
       "      <td>54</td>\n",
       "      <td>19</td>\n",
       "      <td>1</td>\n",
       "      <td>0</td>\n",
       "      <td>0</td>\n",
       "      <td>3</td>\n",
       "      <td>0</td>\n",
       "    </tr>\n",
       "    <tr>\n",
       "      <th>3</th>\n",
       "      <td>55</td>\n",
       "      <td>20</td>\n",
       "      <td>1</td>\n",
       "      <td>0</td>\n",
       "      <td>0</td>\n",
       "      <td>3</td>\n",
       "      <td>0</td>\n",
       "    </tr>\n",
       "    <tr>\n",
       "      <th>4</th>\n",
       "      <td>56</td>\n",
       "      <td>21</td>\n",
       "      <td>1</td>\n",
       "      <td>0</td>\n",
       "      <td>0</td>\n",
       "      <td>3</td>\n",
       "      <td>0</td>\n",
       "    </tr>\n",
       "  </tbody>\n",
       "</table>\n",
       "</div>"
      ],
      "text/plain": [
       "   age  length_of_service  gender_short  STATUS  BUSINESS_UNIT  job_level  \\\n",
       "0   52                 17             1       0              0          3   \n",
       "1   53                 18             1       0              0          3   \n",
       "2   54                 19             1       0              0          3   \n",
       "3   55                 20             1       0              0          3   \n",
       "4   56                 21             1       0              0          3   \n",
       "\n",
       "   dept_category  \n",
       "0              0  \n",
       "1              0  \n",
       "2              0  \n",
       "3              0  \n",
       "4              0  "
      ]
     },
     "execution_count": 2,
     "metadata": {},
     "output_type": "execute_result"
    }
   ],
   "source": [
    "df = pd.read_csv(\"clean_data.csv\")\n",
    "df.head()"
   ]
  },
  {
   "cell_type": "markdown",
   "metadata": {},
   "source": [
    "### Keterangan Kolom\n",
    "\n",
    "1. **Age** : Usia Employee (dalam tahun)\n",
    "2. **Length_of_Service** : Masa Kerja (dalam tahun)\n",
    "3. **gender_short** : Jenis Kelamin (Female : 0, Male : 1)\n",
    "4. **STATUS** : Status Employee (Active : 0, Terminated : 1)\n",
    "5. **Business_Unit** : Unit Bisnis berdasarkan Tempat kerja (Head Office : 0, Store : 1)\n",
    "6. **Job_Level** : Kategori Level jabatan di perusahaan (Staff : 0, Manager : 1, Board : 2, Executive : 3)\n",
    "7. **Dept_Category** : Kategori departemen berdasarkan core (pekerjaan utama), (Business : 0, Customer : 1)"
   ]
  },
  {
   "cell_type": "markdown",
   "metadata": {},
   "source": [
    "## Check Imbalance Data"
   ]
  },
  {
   "cell_type": "code",
   "execution_count": 3,
   "metadata": {
    "ExecuteTime": {
     "end_time": "2020-02-27T00:28:44.638416Z",
     "start_time": "2020-02-27T00:28:44.628444Z"
    }
   },
   "outputs": [
    {
     "data": {
      "text/plain": [
       "0    48168\n",
       "1     1485\n",
       "Name: STATUS, dtype: int64"
      ]
     },
     "execution_count": 3,
     "metadata": {},
     "output_type": "execute_result"
    }
   ],
   "source": [
    "df.STATUS.value_counts()"
   ]
  },
  {
   "cell_type": "markdown",
   "metadata": {},
   "source": [
    "## Datasets Splitting"
   ]
  },
  {
   "cell_type": "code",
   "execution_count": 4,
   "metadata": {
    "ExecuteTime": {
     "end_time": "2020-02-27T00:28:44.672326Z",
     "start_time": "2020-02-27T00:28:44.639414Z"
    }
   },
   "outputs": [
    {
     "data": {
      "text/plain": [
       "((42205, 6), (7448, 6), (42205,), (7448,))"
      ]
     },
     "execution_count": 4,
     "metadata": {},
     "output_type": "execute_result"
    }
   ],
   "source": [
    "X = df.drop(columns=\"STATUS\")\n",
    "y = df.STATUS\n",
    "\n",
    "X_train, X_test, y_train, y_test = train_test_split(X, y, test_size=0.15, stratify=y, random_state=42)\n",
    "X_train.shape, X_test.shape, y_train.shape, y_test.shape"
   ]
  },
  {
   "cell_type": "markdown",
   "metadata": {},
   "source": [
    "# Training Dataset"
   ]
  },
  {
   "cell_type": "markdown",
   "metadata": {},
   "source": [
    "## Evaluation Function"
   ]
  },
  {
   "cell_type": "markdown",
   "metadata": {},
   "source": [
    "**For Confusion Matrix : 0 is Positive**"
   ]
  },
  {
   "cell_type": "code",
   "execution_count": 100,
   "metadata": {
    "ExecuteTime": {
     "end_time": "2020-02-27T05:53:38.758545Z",
     "start_time": "2020-02-27T05:53:38.749600Z"
    }
   },
   "outputs": [],
   "source": [
    "def eva_metric(model):\n",
    "    print('Model : ', model)\n",
    "    print('\\n')\n",
    "    tp, fn, fp, tn = confusion_matrix(y_test, model.predict(X_test)).ravel()\n",
    "    print('True Positive : ', tp)\n",
    "    print('True Negative : ', tn)\n",
    "    print('False Positive : ', fp)\n",
    "    print('False Negative : ', fn)\n",
    "    print('\\n')\n",
    "    print(\"Balanced Accuracy :\", balanced_accuracy_score(y_test, model.predict(X_test)))\n",
    "    print(\"F1 Score :\", f1_score(y_test, model.predict(X_test), pos_label=1))\n",
    "    print(\"Recall Score :\", recall_score(y_test, model.predict(X_test), pos_label=1))\n",
    "    print(\"Precision Score :\", precision_score(y_test, model.predict(X_test), pos_label=1))\n",
    "    print(\"\\n Classification Report : \\n\", classification_report(y_test, model.predict(X_test)))"
   ]
  },
  {
   "cell_type": "markdown",
   "metadata": {},
   "source": [
    "## K Nearest Neighbors"
   ]
  },
  {
   "cell_type": "markdown",
   "metadata": {},
   "source": [
    "### Base"
   ]
  },
  {
   "cell_type": "code",
   "execution_count": 6,
   "metadata": {
    "ExecuteTime": {
     "end_time": "2020-02-27T00:28:44.751115Z",
     "start_time": "2020-02-27T00:28:44.682690Z"
    }
   },
   "outputs": [
    {
     "data": {
      "text/plain": [
       "KNeighborsClassifier(algorithm='auto', leaf_size=30, metric='minkowski',\n",
       "           metric_params=None, n_jobs=None, n_neighbors=5, p=2,\n",
       "           weights='uniform')"
      ]
     },
     "execution_count": 6,
     "metadata": {},
     "output_type": "execute_result"
    }
   ],
   "source": [
    "baseKNN = KNeighborsClassifier()\n",
    "\n",
    "baseKNN.fit(X_train, y_train)\n",
    "\n",
    "baseKNN.score(X_test, y_test)"
   ]
  },
  {
   "cell_type": "markdown",
   "metadata": {},
   "source": [
    "### Hyperparameter Tuning"
   ]
  },
  {
   "cell_type": "code",
   "execution_count": 11,
   "metadata": {
    "ExecuteTime": {
     "end_time": "2020-02-27T00:28:58.332705Z",
     "start_time": "2020-02-27T00:28:58.327719Z"
    }
   },
   "outputs": [],
   "source": [
    "paramKNN = {'n_neighbors': np.array([ 1,  3,  5,  7,  9, 11, 13, 15, 17]),\n",
    " 'p': [1, 2]}"
   ]
  },
  {
   "cell_type": "code",
   "execution_count": 12,
   "metadata": {
    "ExecuteTime": {
     "end_time": "2020-02-27T00:30:03.313660Z",
     "start_time": "2020-02-27T00:28:58.333705Z"
    }
   },
   "outputs": [
    {
     "name": "stdout",
     "output_type": "stream",
     "text": [
      "Fitting 5 folds for each of 18 candidates, totalling 90 fits\n"
     ]
    },
    {
     "name": "stderr",
     "output_type": "stream",
     "text": [
      "[Parallel(n_jobs=-1)]: Using backend LokyBackend with 8 concurrent workers.\n",
      "[Parallel(n_jobs=-1)]: Done  34 tasks      | elapsed:   28.0s\n",
      "[Parallel(n_jobs=-1)]: Done  90 out of  90 | elapsed:  1.1min finished\n"
     ]
    },
    {
     "data": {
      "text/plain": [
       "GridSearchCV(cv=5, error_score='raise-deprecating',\n",
       "       estimator=KNeighborsClassifier(algorithm='auto', leaf_size=30, metric='minkowski',\n",
       "           metric_params=None, n_jobs=None, n_neighbors=5, p=2,\n",
       "           weights='uniform'),\n",
       "       fit_params=None, iid='warn', n_jobs=-1,\n",
       "       param_grid={'n_neighbors': array([ 1,  3,  5,  7,  9, 11, 13, 15, 17]), 'p': [1, 2]},\n",
       "       pre_dispatch='2*n_jobs', refit=True, return_train_score='warn',\n",
       "       scoring=None, verbose=1)"
      ]
     },
     "execution_count": 12,
     "metadata": {},
     "output_type": "execute_result"
    }
   ],
   "source": [
    "best_KNN = GridSearchCV(KNeighborsClassifier(), paramKNN, cv=5, verbose=1, n_jobs=-1)\n",
    "best_KNN.fit(X_train, y_train)\n",
    "print(best_KNN.score(X_test, y_test))\n",
    "print(best_KNN.best_params_)"
   ]
  },
  {
   "cell_type": "code",
   "execution_count": 64,
   "metadata": {
    "ExecuteTime": {
     "end_time": "2020-02-27T02:46:51.116382Z",
     "start_time": "2020-02-27T02:46:51.049447Z"
    }
   },
   "outputs": [
    {
     "data": {
      "text/plain": [
       "KNeighborsClassifier(algorithm='auto', leaf_size=30, metric='minkowski',\n",
       "           metric_params=None, n_jobs=None, n_neighbors=11, p=1,\n",
       "           weights='uniform')"
      ]
     },
     "execution_count": 64,
     "metadata": {},
     "output_type": "execute_result"
    }
   ],
   "source": [
    "best_KNN = best_KNN.best_estimator_\n",
    "best_KNN.fit(X_train, y_train)"
   ]
  },
  {
   "cell_type": "markdown",
   "metadata": {},
   "source": [
    "## Evaluation Matrix fo Best KNN"
   ]
  },
  {
   "cell_type": "code",
   "execution_count": 74,
   "metadata": {
    "ExecuteTime": {
     "end_time": "2020-02-27T04:24:40.731654Z",
     "start_time": "2020-02-27T04:24:40.396039Z"
    }
   },
   "outputs": [
    {
     "data": {
      "text/plain": [
       "0.7912722081710553"
      ]
     },
     "execution_count": 74,
     "metadata": {},
     "output_type": "execute_result"
    }
   ],
   "source": [
    "auc_KNN = roc_auc_score(y_test, best_KNN.predict(X_test) )\n",
    "auc_KNN"
   ]
  },
  {
   "cell_type": "code",
   "execution_count": 62,
   "metadata": {
    "ExecuteTime": {
     "end_time": "2020-02-27T02:39:40.470870Z",
     "start_time": "2020-02-27T02:39:36.710209Z"
    },
    "scrolled": true
   },
   "outputs": [
    {
     "data": {
      "image/png": "[encoded data removed]",
      "text/plain": [
       "<Figure size 792x360 with 2 Axes>"
      ]
     },
     "metadata": {
      "needs_background": "light"
     },
     "output_type": "display_data"
    }
   ],
   "source": [
    "plot_confusion_matrix(X_train, y_train, X_test, y_test, best_KNN)"
   ]
  },
  {
   "cell_type": "code",
   "execution_count": 92,
   "metadata": {
    "ExecuteTime": {
     "end_time": "2020-02-27T05:41:04.148225Z",
     "start_time": "2020-02-27T05:41:03.846952Z"
    }
   },
   "outputs": [
    {
     "data": {
      "text/plain": [
       "array([[7222,    3],\n",
       "       [  93,  130]], dtype=int64)"
      ]
     },
     "execution_count": 92,
     "metadata": {},
     "output_type": "execute_result"
    }
   ],
   "source": [
    "confusion_matrix(y_test, best_KNN.predict(X_test))"
   ]
  },
  {
   "cell_type": "code",
   "execution_count": 93,
   "metadata": {
    "ExecuteTime": {
     "end_time": "2020-02-27T05:41:30.643906Z",
     "start_time": "2020-02-27T05:41:30.322187Z"
    }
   },
   "outputs": [
    {
     "data": {
      "text/plain": [
       "array([7222,    3,   93,  130], dtype=int64)"
      ]
     },
     "execution_count": 93,
     "metadata": {},
     "output_type": "execute_result"
    }
   ],
   "source": [
    "tp, fn, fp, tn = confusion_matrix(y_test, best_KNN.predict(X_test)).ravel()"
   ]
  },
  {
   "cell_type": "code",
   "execution_count": 69,
   "metadata": {
    "ExecuteTime": {
     "end_time": "2020-02-27T02:53:36.175672Z",
     "start_time": "2020-02-27T02:53:35.897906Z"
    }
   },
   "outputs": [
    {
     "name": "stdout",
     "output_type": "stream",
     "text": [
      "              precision    recall  f1-score   support\n",
      "\n",
      "           0       0.99      1.00      0.99      7225\n",
      "           1       0.98      0.58      0.73       223\n",
      "\n",
      "   micro avg       0.99      0.99      0.99      7448\n",
      "   macro avg       0.98      0.79      0.86      7448\n",
      "weighted avg       0.99      0.99      0.99      7448\n",
      "\n"
     ]
    }
   ],
   "source": [
    "print(classification_report(y_test,best_KNN.predict(X_test)))"
   ]
  },
  {
   "cell_type": "code",
   "execution_count": 99,
   "metadata": {
    "ExecuteTime": {
     "end_time": "2020-02-27T05:49:35.892441Z",
     "start_time": "2020-02-27T05:49:34.173973Z"
    }
   },
   "outputs": [
    {
     "name": "stdout",
     "output_type": "stream",
     "text": [
      "Model :  KNeighborsClassifier(algorithm='auto', leaf_size=30, metric='minkowski',\n",
      "           metric_params=None, n_jobs=None, n_neighbors=11, p=1,\n",
      "           weights='uniform')\n",
      "\n",
      "\n",
      "True Positive :  7222\n",
      "True Negative :  130\n",
      "False Positive :  93\n",
      "False Negative :  3\n",
      "\n",
      "\n",
      "Balanced Accuracy : 0.7912722081710553\n",
      "F1 Score : 0.7303370786516854\n",
      "Recall Score : 0.5829596412556054\n",
      "Precision Score : 0.9774436090225563\n",
      "\n",
      " Classification Report : \n",
      "               precision    recall  f1-score   support\n",
      "\n",
      "           0       0.99      1.00      0.99      7225\n",
      "           1       0.98      0.58      0.73       223\n",
      "\n",
      "   micro avg       0.99      0.99      0.99      7448\n",
      "   macro avg       0.98      0.79      0.86      7448\n",
      "weighted avg       0.99      0.99      0.99      7448\n",
      "\n"
     ]
    }
   ],
   "source": [
    "eva_metric(best_KNN)"
   ]
  },
  {
   "cell_type": "markdown",
   "metadata": {},
   "source": [
    "## RandomForest Classifier"
   ]
  },
  {
   "cell_type": "markdown",
   "metadata": {},
   "source": [
    "### Base"
   ]
  },
  {
   "cell_type": "code",
   "execution_count": 20,
   "metadata": {
    "ExecuteTime": {
     "end_time": "2020-02-27T00:30:14.446033Z",
     "start_time": "2020-02-27T00:30:14.441678Z"
    }
   },
   "outputs": [],
   "source": [
    "base_Forest = RandomForestClassifier()"
   ]
  },
  {
   "cell_type": "code",
   "execution_count": 21,
   "metadata": {
    "ExecuteTime": {
     "end_time": "2020-02-27T00:30:14.701245Z",
     "start_time": "2020-02-27T00:30:14.448151Z"
    }
   },
   "outputs": [
    {
     "data": {
      "text/plain": [
       "0.9879162191192267"
      ]
     },
     "execution_count": 21,
     "metadata": {},
     "output_type": "execute_result"
    }
   ],
   "source": [
    "base_Forest.fit(X_train, y_train)\n",
    "base_Forest.score(X_test, y_test)"
   ]
  },
  {
   "cell_type": "markdown",
   "metadata": {},
   "source": [
    "### Hyperparameter Tuning"
   ]
  },
  {
   "cell_type": "code",
   "execution_count": 22,
   "metadata": {
    "ExecuteTime": {
     "end_time": "2020-02-27T00:30:14.708229Z",
     "start_time": "2020-02-27T00:30:14.702488Z"
    }
   },
   "outputs": [
    {
     "data": {
      "text/plain": [
       "{'algo__n_estimators': [100, 150, 200],\n",
       " 'algo__max_depth': [20, 50, 80],\n",
       " 'algo__max_features': [0.3, 0.6, 0.8],\n",
       " 'algo__min_samples_leaf': [1, 5, 10]}"
      ]
     },
     "execution_count": 22,
     "metadata": {},
     "output_type": "execute_result"
    }
   ],
   "source": [
    "gsp.rf_params"
   ]
  },
  {
   "cell_type": "code",
   "execution_count": 23,
   "metadata": {
    "ExecuteTime": {
     "end_time": "2020-02-27T00:30:14.714415Z",
     "start_time": "2020-02-27T00:30:14.710190Z"
    }
   },
   "outputs": [],
   "source": [
    "rf_param = {'n_estimators': [100, 150, 200],\n",
    " 'max_depth': [20, 50, 80],\n",
    " 'max_features': [0.3, 0.6, 0.8],\n",
    " 'min_samples_leaf': [1, 5, 10],\n",
    " 'class_weight':[{0: x, 1: 1-x} for x in [0.05, 0.15, 0.25, 0.30, 0.35]]}"
   ]
  },
  {
   "cell_type": "code",
   "execution_count": 24,
   "metadata": {
    "ExecuteTime": {
     "end_time": "2020-02-27T00:30:14.721162Z",
     "start_time": "2020-02-27T00:30:14.716175Z"
    }
   },
   "outputs": [],
   "source": [
    "best_Forest = RandomizedSearchCV(RandomForestClassifier(class_weight={0:0.05, 1:0.95}), rf_param,n_iter=50, cv=5, verbose=1, n_jobs=-1)\n"
   ]
  },
  {
   "cell_type": "code",
   "execution_count": 25,
   "metadata": {
    "ExecuteTime": {
     "end_time": "2020-02-27T00:34:14.570931Z",
     "start_time": "2020-02-27T00:30:14.723206Z"
    }
   },
   "outputs": [
    {
     "name": "stdout",
     "output_type": "stream",
     "text": [
      "Fitting 5 folds for each of 50 candidates, totalling 250 fits\n"
     ]
    },
    {
     "name": "stderr",
     "output_type": "stream",
     "text": [
      "[Parallel(n_jobs=-1)]: Using backend LokyBackend with 8 concurrent workers.\n",
      "[Parallel(n_jobs=-1)]: Done  34 tasks      | elapsed:   39.2s\n",
      "[Parallel(n_jobs=-1)]: Done 184 tasks      | elapsed:  3.2min\n",
      "[Parallel(n_jobs=-1)]: Done 250 out of 250 | elapsed:  4.0min finished\n"
     ]
    },
    {
     "data": {
      "text/plain": [
       "RandomizedSearchCV(cv=5, error_score='raise-deprecating',\n",
       "          estimator=RandomForestClassifier(bootstrap=True, class_weight={0: 0.05, 1: 0.95},\n",
       "            criterion='gini', max_depth=None, max_features='auto',\n",
       "            max_leaf_nodes=None, min_impurity_decrease=0.0,\n",
       "            min_impurity_split=None, min_samples_leaf=1,\n",
       "            min_samples_split=2, min_weight_fraction_leaf=0.0,\n",
       "            n_estimators='warn', n_jobs=None, oob_score=False,\n",
       "            random_state=None, verbose=0, warm_start=False),\n",
       "          fit_params=None, iid='warn', n_iter=50, n_jobs=-1,\n",
       "          param_distributions={'n_estimators': [100, 150, 200], 'max_depth': [20, 50, 80], 'max_features': [0.3, 0.6, 0.8], 'min_samples_leaf': [1, 5, 10], 'class_weight': [{0: 0.05, 1: 0.95}, {0: 0.15, 1: 0.85}, {0: 0.25, 1: 0.75}, {0: 0.3, 1: 0.7}, {0: 0.35, 1: 0.65}]},\n",
       "          pre_dispatch='2*n_jobs', random_state=None, refit=True,\n",
       "          return_train_score='warn', scoring=None, verbose=1)"
      ]
     },
     "execution_count": 25,
     "metadata": {},
     "output_type": "execute_result"
    }
   ],
   "source": [
    "best_Forest.fit(X_train, y_train)\n",
    "best_Forest = best_Forest.best_estimator_\n",
    "print(best_Forest.best_params_)"
   ]
  },
  {
   "cell_type": "markdown",
   "metadata": {},
   "source": [
    "## Evaluation Matrix for Best Random Forest Classifier"
   ]
  },
  {
   "cell_type": "code",
   "execution_count": 67,
   "metadata": {
    "ExecuteTime": {
     "end_time": "2020-02-27T02:47:49.972390Z",
     "start_time": "2020-02-27T02:47:47.897215Z"
    }
   },
   "outputs": [
    {
     "data": {
      "image/png": "[encoded data removed]",
      "text/plain": [
       "<Figure size 792x360 with 2 Axes>"
      ]
     },
     "metadata": {
      "needs_background": "light"
     },
     "output_type": "display_data"
    }
   ],
   "source": [
    "plot_confusion_matrix(X_train, y_train, X_test, y_test, best_Forest)"
   ]
  },
  {
   "cell_type": "code",
   "execution_count": 73,
   "metadata": {
    "ExecuteTime": {
     "end_time": "2020-02-27T04:24:11.238545Z",
     "start_time": "2020-02-27T04:24:11.065942Z"
    }
   },
   "outputs": [
    {
     "data": {
      "text/plain": [
       "0.8045867146647633"
      ]
     },
     "execution_count": 73,
     "metadata": {},
     "output_type": "execute_result"
    }
   ],
   "source": [
    "auc_forest = roc_auc_score(y_test, best_Forest.predict(X_test) )\n",
    "auc_forest"
   ]
  },
  {
   "cell_type": "code",
   "execution_count": 66,
   "metadata": {
    "ExecuteTime": {
     "end_time": "2020-02-27T02:47:43.488055Z",
     "start_time": "2020-02-27T02:47:43.314389Z"
    },
    "scrolled": true
   },
   "outputs": [
    {
     "name": "stdout",
     "output_type": "stream",
     "text": [
      "              precision    recall  f1-score   support\n",
      "\n",
      "           0       0.99      1.00      0.99      7225\n",
      "           1       0.96      0.61      0.75       223\n",
      "\n",
      "   micro avg       0.99      0.99      0.99      7448\n",
      "   macro avg       0.98      0.80      0.87      7448\n",
      "weighted avg       0.99      0.99      0.99      7448\n",
      "\n"
     ]
    }
   ],
   "source": [
    "print(classification_report(y_test,best_Forest.predict(X_test)))"
   ]
  },
  {
   "cell_type": "code",
   "execution_count": 98,
   "metadata": {
    "ExecuteTime": {
     "end_time": "2020-02-27T05:49:09.871808Z",
     "start_time": "2020-02-27T05:49:08.901940Z"
    }
   },
   "outputs": [
    {
     "name": "stdout",
     "output_type": "stream",
     "text": [
      "Model :  RandomizedSearchCV(cv=5, error_score='raise-deprecating',\n",
      "          estimator=RandomForestClassifier(bootstrap=True, class_weight={0: 0.05, 1: 0.95},\n",
      "            criterion='gini', max_depth=None, max_features='auto',\n",
      "            max_leaf_nodes=None, min_impurity_decrease=0.0,\n",
      "            min_impurity_split=None, min_samples_leaf=1,\n",
      "            min_samples_split=2, min_weight_fraction_leaf=0.0,\n",
      "            n_estimators='warn', n_jobs=None, oob_score=False,\n",
      "            random_state=None, verbose=0, warm_start=False),\n",
      "          fit_params=None, iid='warn', n_iter=50, n_jobs=-1,\n",
      "          param_distributions={'n_estimators': [100, 150, 200], 'max_depth': [20, 50, 80], 'max_features': [0.3, 0.6, 0.8], 'min_samples_leaf': [1, 5, 10], 'class_weight': [{0: 0.05, 1: 0.95}, {0: 0.15, 1: 0.85}, {0: 0.25, 1: 0.75}, {0: 0.3, 1: 0.7}, {0: 0.35, 1: 0.65}]},\n",
      "          pre_dispatch='2*n_jobs', random_state=None, refit=True,\n",
      "          return_train_score='warn', scoring=None, verbose=1)\n",
      "\n",
      "\n",
      "True Positive :  7220\n",
      "True Negative :  136\n",
      "False Positive :  87\n",
      "False Negative :  5\n",
      "\n",
      "\n",
      "Balanced Accuracy : 0.8045867146647633\n",
      "F1 Score : 0.7472527472527472\n",
      "Recall Score : 0.6098654708520179\n",
      "Precision Score : 0.9645390070921985\n",
      "\n",
      " Classification Report : \n",
      "               precision    recall  f1-score   support\n",
      "\n",
      "           0       0.99      1.00      0.99      7225\n",
      "           1       0.96      0.61      0.75       223\n",
      "\n",
      "   micro avg       0.99      0.99      0.99      7448\n",
      "   macro avg       0.98      0.80      0.87      7448\n",
      "weighted avg       0.99      0.99      0.99      7448\n",
      "\n"
     ]
    }
   ],
   "source": [
    "eva_metric(best_Forest)"
   ]
  },
  {
   "cell_type": "markdown",
   "metadata": {},
   "source": [
    "## XGBoost Classifier"
   ]
  },
  {
   "cell_type": "markdown",
   "metadata": {},
   "source": [
    "### Base"
   ]
  },
  {
   "cell_type": "code",
   "execution_count": 31,
   "metadata": {
    "ExecuteTime": {
     "end_time": "2020-02-27T00:34:19.572199Z",
     "start_time": "2020-02-27T00:34:18.620616Z"
    }
   },
   "outputs": [],
   "source": [
    "xgb = XGBClassifier()\n",
    "base_XGB = xgb.fit(X_train, y_train)"
   ]
  },
  {
   "cell_type": "code",
   "execution_count": 33,
   "metadata": {
    "ExecuteTime": {
     "end_time": "2020-02-27T00:34:19.616075Z",
     "start_time": "2020-02-27T00:34:19.596106Z"
    }
   },
   "outputs": [
    {
     "data": {
      "text/plain": [
       "0.9876476906552094"
      ]
     },
     "execution_count": 33,
     "metadata": {},
     "output_type": "execute_result"
    }
   ],
   "source": [
    "base_XGB.score(X_test, y_test)"
   ]
  },
  {
   "cell_type": "markdown",
   "metadata": {},
   "source": [
    "### Hyperparameter Tuning"
   ]
  },
  {
   "cell_type": "code",
   "execution_count": 68,
   "metadata": {
    "ExecuteTime": {
     "end_time": "2020-02-27T02:50:23.143234Z",
     "start_time": "2020-02-27T02:50:23.136745Z"
    }
   },
   "outputs": [],
   "source": [
    "xgb_params = {'max_depth': [3, 6, 10],\n",
    " 'colsample_bytree': [0.4, 0.6, 0.8],\n",
    " 'n_estimators': [100, 150, 200],\n",
    " 'subsample': [0.4, 0.6, 0.8],\n",
    " 'gamma': [1, 5, 10],\n",
    " 'learning_rate': [0.01, 0.1, 1],\n",
    " 'reg_alpha': [0.01, 0.1, 10],\n",
    " 'reg_lambda': [0.01, 0.1, 10]}"
   ]
  },
  {
   "cell_type": "code",
   "execution_count": 77,
   "metadata": {
    "ExecuteTime": {
     "end_time": "2020-02-27T04:28:28.731189Z",
     "start_time": "2020-02-27T04:26:04.179301Z"
    }
   },
   "outputs": [
    {
     "name": "stdout",
     "output_type": "stream",
     "text": [
      "Fitting 5 folds for each of 60 candidates, totalling 300 fits\n"
     ]
    },
    {
     "name": "stderr",
     "output_type": "stream",
     "text": [
      "[Parallel(n_jobs=-1)]: Using backend LokyBackend with 8 concurrent workers.\n",
      "[Parallel(n_jobs=-1)]: Done  34 tasks      | elapsed:   18.4s\n",
      "[Parallel(n_jobs=-1)]: Done 184 tasks      | elapsed:  1.6min\n",
      "[Parallel(n_jobs=-1)]: Done 300 out of 300 | elapsed:  2.4min finished\n"
     ]
    },
    {
     "name": "stdout",
     "output_type": "stream",
     "text": [
      "{'subsample': 0.4, 'reg_lambda': 10, 'reg_alpha': 0.1, 'n_estimators': 150, 'max_depth': 3, 'learning_rate': 1, 'gamma': 5, 'colsample_bytree': 0.6}\n",
      "0.9873237768036962 0.9873711645539628 0.9876476906552094\n"
     ]
    }
   ],
   "source": [
    "\n",
    "best_XGB = RandomizedSearchCV(XGBClassifier(), xgb_params, cv=5, n_iter=30, n_jobs=-1, verbose=1, random_state=42)\n",
    "best_XGB.fit(X_train, y_train)\n",
    "\n",
    "print(best_XGB.best_params_)\n",
    "print(best_XGB.score(X_train, y_train), best_XGB.best_score_, best_XGB.score(X_test, y_test))"
   ]
  },
  {
   "cell_type": "markdown",
   "metadata": {},
   "source": [
    "## Evaluation Matrix for Best XGBoost Classifier"
   ]
  },
  {
   "cell_type": "code",
   "execution_count": 79,
   "metadata": {
    "ExecuteTime": {
     "end_time": "2020-02-27T04:29:10.415131Z",
     "start_time": "2020-02-27T04:29:10.399142Z"
    }
   },
   "outputs": [
    {
     "data": {
      "text/plain": [
       "0.7980678697224075"
      ]
     },
     "execution_count": 79,
     "metadata": {},
     "output_type": "execute_result"
    }
   ],
   "source": [
    "auc_xgb = roc_auc_score(y_test, best_XGB.predict(X_test) )\n",
    "auc_xgb"
   ]
  },
  {
   "cell_type": "code",
   "execution_count": 80,
   "metadata": {
    "ExecuteTime": {
     "end_time": "2020-02-27T04:29:15.438232Z",
     "start_time": "2020-02-27T04:29:15.146474Z"
    }
   },
   "outputs": [
    {
     "data": {
      "image/png": "[encoded data removed]",
      "text/plain": [
       "<Figure size 792x360 with 2 Axes>"
      ]
     },
     "metadata": {
      "needs_background": "light"
     },
     "output_type": "display_data"
    }
   ],
   "source": [
    "plot_confusion_matrix(X_train, y_train, X_test, y_test, best_XGB)"
   ]
  },
  {
   "cell_type": "code",
   "execution_count": 37,
   "metadata": {
    "ExecuteTime": {
     "end_time": "2020-02-27T00:35:46.772498Z",
     "start_time": "2020-02-27T00:35:46.736553Z"
    }
   },
   "outputs": [
    {
     "name": "stdout",
     "output_type": "stream",
     "text": [
      "              precision    recall  f1-score   support\n",
      "\n",
      "           0       0.99      1.00      0.99      7225\n",
      "           1       0.99      0.60      0.74       223\n",
      "\n",
      "   micro avg       0.99      0.99      0.99      7448\n",
      "   macro avg       0.99      0.80      0.87      7448\n",
      "weighted avg       0.99      0.99      0.99      7448\n",
      "\n"
     ]
    }
   ],
   "source": [
    "print(classification_report(y_test,best_XGB.predict(X_test)))"
   ]
  },
  {
   "cell_type": "code",
   "execution_count": 97,
   "metadata": {
    "ExecuteTime": {
     "end_time": "2020-02-27T05:48:33.443271Z",
     "start_time": "2020-02-27T05:48:33.353894Z"
    }
   },
   "outputs": [
    {
     "name": "stdout",
     "output_type": "stream",
     "text": [
      "Model :  RandomizedSearchCV(cv=5, error_score='raise-deprecating',\n",
      "          estimator=XGBClassifier(base_score=0.5, booster='gbtree', colsample_bylevel=1,\n",
      "       colsample_bytree=1, gamma=0, learning_rate=0.1, max_delta_step=0,\n",
      "       max_depth=3, min_child_weight=1, missing=None, n_estimators=100,\n",
      "       n_jobs=1, nthread=None, objective='binary:logistic', random_state=0,\n",
      "       reg_alpha=0, reg_lambda=1, scale_pos_weight=1, seed=None,\n",
      "       silent=True, subsample=1),\n",
      "          fit_params=None, iid='warn', n_iter=60, n_jobs=-1,\n",
      "          param_distributions={'max_depth': [3, 6, 10], 'colsample_bytree': [0.4, 0.6, 0.8], 'n_estimators': [100, 150, 200], 'subsample': [0.4, 0.6, 0.8], 'gamma': [1, 5, 10], 'learning_rate': [0.01, 0.1, 1], 'reg_alpha': [0.01, 0.1, 10], 'reg_lambda': [0.01, 0.1, 10]},\n",
      "          pre_dispatch='2*n_jobs', random_state=42, refit=True,\n",
      "          return_train_score='warn', scoring=None, verbose=1)\n",
      "\n",
      "\n",
      "True Positive :  7223\n",
      "True Negative :  133\n",
      "False Positive :  90\n",
      "False Negative :  2\n",
      "\n",
      "\n",
      "Balanced Accuracy : 0.7980678697224075\n",
      "F1 Score : 0.7430167597765363\n",
      "Recall Score : 0.5964125560538116\n",
      "Precision Score : 0.9851851851851852\n",
      "\n",
      " Classification Report : \n",
      "               precision    recall  f1-score   support\n",
      "\n",
      "           0       0.99      1.00      0.99      7225\n",
      "           1       0.99      0.60      0.74       223\n",
      "\n",
      "   micro avg       0.99      0.99      0.99      7448\n",
      "   macro avg       0.99      0.80      0.87      7448\n",
      "weighted avg       0.99      0.99      0.99      7448\n",
      "\n"
     ]
    }
   ],
   "source": [
    "eva_metric(best_XGB)"
   ]
  },
  {
   "cell_type": "markdown",
   "metadata": {},
   "source": [
    "## SVM Classifier"
   ]
  },
  {
   "cell_type": "markdown",
   "metadata": {},
   "source": [
    "### Base"
   ]
  },
  {
   "cell_type": "code",
   "execution_count": 70,
   "metadata": {
    "ExecuteTime": {
     "end_time": "2020-02-27T02:54:13.608359Z",
     "start_time": "2020-02-27T02:54:10.460970Z"
    }
   },
   "outputs": [
    {
     "data": {
      "text/plain": [
       "0.9877819548872181"
      ]
     },
     "execution_count": 70,
     "metadata": {},
     "output_type": "execute_result"
    }
   ],
   "source": [
    "Svm = SVC()\n",
    "\n",
    "base_svm = Svm.fit(X_train, y_train)\n",
    "\n",
    "base_svm.score(X_test, y_test)"
   ]
  },
  {
   "cell_type": "markdown",
   "metadata": {},
   "source": [
    "### Hyperparameter Tuning"
   ]
  },
  {
   "cell_type": "code",
   "execution_count": 42,
   "metadata": {
    "ExecuteTime": {
     "end_time": "2020-02-27T00:35:49.874265Z",
     "start_time": "2020-02-27T00:35:49.864762Z"
    }
   },
   "outputs": [],
   "source": [
    "sv_params = {'gamma': np.logspace(-3,3,7),\n",
    "'C': np.logspace(-3, 3, 7),\n",
    "'class_weight':[{0: x, 1: 1-x} for x in [0.05, 0.15, 0.25, 0.30, 0.35]]}"
   ]
  },
  {
   "cell_type": "code",
   "execution_count": 82,
   "metadata": {
    "ExecuteTime": {
     "end_time": "2020-02-27T05:16:56.608929Z",
     "start_time": "2020-02-27T04:47:16.178211Z"
    }
   },
   "outputs": [
    {
     "name": "stdout",
     "output_type": "stream",
     "text": [
      "Fitting 5 folds for each of 49 candidates, totalling 245 fits\n"
     ]
    },
    {
     "name": "stderr",
     "output_type": "stream",
     "text": [
      "[Parallel(n_jobs=-1)]: Using backend LokyBackend with 8 concurrent workers.\n",
      "[Parallel(n_jobs=-1)]: Done  34 tasks      | elapsed:  2.2min\n",
      "[Parallel(n_jobs=-1)]: Done 184 tasks      | elapsed: 11.5min\n",
      "[Parallel(n_jobs=-1)]: Done 245 out of 245 | elapsed: 29.5min finished\n"
     ]
    },
    {
     "name": "stdout",
     "output_type": "stream",
     "text": [
      "{'C': 10.0, 'gamma': 0.1}\n",
      "0.987300082928563 0.9872290013031632 0.9876476906552094\n"
     ]
    }
   ],
   "source": [
    "best_SVM = GridSearchCV(SVC(class_weight={0:0.25,1:0.75}), sv_params, cv=5, n_jobs=-1, verbose=1)\n",
    "best_SVM.fit(X_train, y_train)\n",
    "\n",
    "print(best_SVM.best_params_)\n",
    "print(best_SVM.score(X_train, y_train), best_SVM.best_score_, best_SVM.score(X_test, y_test))"
   ]
  },
  {
   "cell_type": "markdown",
   "metadata": {},
   "source": [
    "## Evaluation Matrix for Best SVM"
   ]
  },
  {
   "cell_type": "code",
   "execution_count": 84,
   "metadata": {
    "ExecuteTime": {
     "end_time": "2020-02-27T05:33:46.917789Z",
     "start_time": "2020-02-27T05:33:46.432115Z"
    }
   },
   "outputs": [
    {
     "data": {
      "text/plain": [
       "0.8045867146647633"
      ]
     },
     "execution_count": 84,
     "metadata": {},
     "output_type": "execute_result"
    }
   ],
   "source": [
    "auc_svm = roc_auc_score(y_test, best_SVM.predict(X_test) )\n",
    "auc_svm"
   ]
  },
  {
   "cell_type": "code",
   "execution_count": 86,
   "metadata": {
    "ExecuteTime": {
     "end_time": "2020-02-27T05:34:45.918039Z",
     "start_time": "2020-02-27T05:34:39.764271Z"
    }
   },
   "outputs": [
    {
     "data": {
      "image/png": "[encoded data removed]",
      "text/plain": [
       "<Figure size 792x360 with 2 Axes>"
      ]
     },
     "metadata": {
      "needs_background": "light"
     },
     "output_type": "display_data"
    }
   ],
   "source": [
    "plot_confusion_matrix(X_train, y_train, X_test, y_test, best_SVM)"
   ]
  },
  {
   "cell_type": "code",
   "execution_count": 87,
   "metadata": {
    "ExecuteTime": {
     "end_time": "2020-02-27T05:35:33.522610Z",
     "start_time": "2020-02-27T05:35:33.075694Z"
    }
   },
   "outputs": [
    {
     "name": "stdout",
     "output_type": "stream",
     "text": [
      "              precision    recall  f1-score   support\n",
      "\n",
      "           0       0.99      1.00      0.99      7225\n",
      "           1       0.96      0.61      0.75       223\n",
      "\n",
      "   micro avg       0.99      0.99      0.99      7448\n",
      "   macro avg       0.98      0.80      0.87      7448\n",
      "weighted avg       0.99      0.99      0.99      7448\n",
      "\n"
     ]
    }
   ],
   "source": [
    "print(classification_report(y_test,best_SVM.predict(X_test)))"
   ]
  },
  {
   "cell_type": "code",
   "execution_count": 96,
   "metadata": {
    "ExecuteTime": {
     "end_time": "2020-02-27T05:48:00.030786Z",
     "start_time": "2020-02-27T05:47:57.278352Z"
    }
   },
   "outputs": [
    {
     "name": "stdout",
     "output_type": "stream",
     "text": [
      "Model :  GridSearchCV(cv=5, error_score='raise-deprecating',\n",
      "       estimator=SVC(C=1.0, cache_size=200, class_weight={0: 0.25, 1: 0.75}, coef0=0.0,\n",
      "  decision_function_shape='ovr', degree=3, gamma='auto_deprecated',\n",
      "  kernel='rbf', max_iter=-1, probability=False, random_state=None,\n",
      "  shrinking=True, tol=0.001, verbose=False),\n",
      "       fit_params=None, iid='warn', n_jobs=-1,\n",
      "       param_grid={'gamma': array([1.e-03, 1.e-02, 1.e-01, 1.e+00, 1.e+01, 1.e+02, 1.e+03]), 'C': array([1.e-03, 1.e-02, 1.e-01, 1.e+00, 1.e+01, 1.e+02, 1.e+03])},\n",
      "       pre_dispatch='2*n_jobs', refit=True, return_train_score='warn',\n",
      "       scoring=None, verbose=1)\n",
      "\n",
      "\n",
      "True Positive :  7220\n",
      "True Negative :  136\n",
      "False Positive :  87\n",
      "False Negative :  5\n",
      "\n",
      "\n",
      "Balanced Accuracy : 0.8045867146647633\n",
      "F1 Score : 0.7472527472527472\n",
      "Recall Score : 0.6098654708520179\n",
      "Precision Score : 0.9645390070921985\n",
      "\n",
      " Classification Report : \n",
      "               precision    recall  f1-score   support\n",
      "\n",
      "           0       0.99      1.00      0.99      7225\n",
      "           1       0.96      0.61      0.75       223\n",
      "\n",
      "   micro avg       0.99      0.99      0.99      7448\n",
      "   macro avg       0.98      0.80      0.87      7448\n",
      "weighted avg       0.99      0.99      0.99      7448\n",
      "\n"
     ]
    }
   ],
   "source": [
    "eva_metric(best_SVM)"
   ]
  },
  {
   "cell_type": "markdown",
   "metadata": {},
   "source": [
    "# Based on Matrix Comparison, the Best Algorithm is Random Forest Classifier with best Parameter"
   ]
  },
  {
   "cell_type": "markdown",
   "metadata": {},
   "source": [
    "## Save Model"
   ]
  },
  {
   "cell_type": "code",
   "execution_count": 46,
   "metadata": {
    "ExecuteTime": {
     "end_time": "2020-02-27T00:50:01.276978Z",
     "start_time": "2020-02-27T00:50:01.272992Z"
    }
   },
   "outputs": [],
   "source": [
    "import joblib\n",
    "\n",
    "joblib.dump(best_Forest.best_estimator_, \"modelAttrition\")"
   ]
  },
  {
   "cell_type": "markdown",
   "metadata": {},
   "source": [
    "## Test Prediction by Random Data"
   ]
  },
  {
   "cell_type": "code",
   "execution_count": 57,
   "metadata": {
    "ExecuteTime": {
     "end_time": "2020-02-27T01:06:18.373116Z",
     "start_time": "2020-02-27T01:06:18.351662Z"
    }
   },
   "outputs": [
    {
     "data": {
      "text/plain": [
       "array([[0.84386824, 0.15613176]])"
      ]
     },
     "execution_count": 57,
     "metadata": {},
     "output_type": "execute_result"
    }
   ],
   "source": [
    "model = best_Forest.best_estimator_\n",
    "model.predict_proba([[55,25,1,1,0,1]])"
   ]
  }
 ],
 "metadata": {
  "kernelspec": {
   "display_name": "Python [conda env:.conda-jcopml]",
   "language": "python",
   "name": "conda-env-.conda-jcopml-py"
  },
  "language_info": {
   "codemirror_mode": {
    "name": "ipython",
    "version": 3
   },
   "file_extension": ".py",
   "mimetype": "text/x-python",
   "name": "python",
   "nbconvert_exporter": "python",
   "pygments_lexer": "ipython3",
   "version": "3.6.7"
  }
 },
 "nbformat": 4,
 "nbformat_minor": 4
}
